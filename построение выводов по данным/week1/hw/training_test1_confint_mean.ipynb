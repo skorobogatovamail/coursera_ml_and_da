{
 "cells": [
  {
   "cell_type": "code",
   "execution_count": 26,
   "metadata": {},
   "outputs": [],
   "source": [
    "import pandas as pd\n",
    "import numpy as np"
   ]
  },
  {
   "cell_type": "markdown",
   "metadata": {},
   "source": [
    "# Вопрос 2\n",
    "Для 61 большого города в Англии и Уэльсе известны средняя годовая смертность на 100000 населения (по данным 1958–1964) и концентрация кальция в питьевой воде (в частях на миллион). Чем выше концентрация кальция, тем жёстче вода. Города дополнительно поделены на северные и южные."
   ]
  },
  {
   "cell_type": "markdown",
   "metadata": {},
   "source": [
    "Постройте 95% доверительный интервал для средней годовой смертности в больших городах. Чему равна его нижняя граница? Округлите ответ до 4 знаков после десятичной точки. "
   ]
  },
  {
   "cell_type": "code",
   "execution_count": 16,
   "metadata": {},
   "outputs": [
    {
     "data": {
      "text/html": [
       "<div>\n",
       "<style scoped>\n",
       "    .dataframe tbody tr th:only-of-type {\n",
       "        vertical-align: middle;\n",
       "    }\n",
       "\n",
       "    .dataframe tbody tr th {\n",
       "        vertical-align: top;\n",
       "    }\n",
       "\n",
       "    .dataframe thead th {\n",
       "        text-align: right;\n",
       "    }\n",
       "</style>\n",
       "<table border=\"1\" class=\"dataframe\">\n",
       "  <thead>\n",
       "    <tr style=\"text-align: right;\">\n",
       "      <th></th>\n",
       "      <th>location</th>\n",
       "      <th>town</th>\n",
       "      <th>mortality</th>\n",
       "      <th>hardness</th>\n",
       "    </tr>\n",
       "  </thead>\n",
       "  <tbody>\n",
       "    <tr>\n",
       "      <th>0</th>\n",
       "      <td>South</td>\n",
       "      <td>Bath</td>\n",
       "      <td>1247</td>\n",
       "      <td>105</td>\n",
       "    </tr>\n",
       "    <tr>\n",
       "      <th>1</th>\n",
       "      <td>North</td>\n",
       "      <td>Birkenhead</td>\n",
       "      <td>1668</td>\n",
       "      <td>17</td>\n",
       "    </tr>\n",
       "    <tr>\n",
       "      <th>2</th>\n",
       "      <td>South</td>\n",
       "      <td>Birmingham</td>\n",
       "      <td>1466</td>\n",
       "      <td>5</td>\n",
       "    </tr>\n",
       "    <tr>\n",
       "      <th>3</th>\n",
       "      <td>North</td>\n",
       "      <td>Blackburn</td>\n",
       "      <td>1800</td>\n",
       "      <td>14</td>\n",
       "    </tr>\n",
       "    <tr>\n",
       "      <th>4</th>\n",
       "      <td>North</td>\n",
       "      <td>Blackpool</td>\n",
       "      <td>1609</td>\n",
       "      <td>18</td>\n",
       "    </tr>\n",
       "    <tr>\n",
       "      <th>...</th>\n",
       "      <td>...</td>\n",
       "      <td>...</td>\n",
       "      <td>...</td>\n",
       "      <td>...</td>\n",
       "    </tr>\n",
       "    <tr>\n",
       "      <th>56</th>\n",
       "      <td>South</td>\n",
       "      <td>Walsall</td>\n",
       "      <td>1527</td>\n",
       "      <td>60</td>\n",
       "    </tr>\n",
       "    <tr>\n",
       "      <th>57</th>\n",
       "      <td>South</td>\n",
       "      <td>West Bromwich</td>\n",
       "      <td>1627</td>\n",
       "      <td>53</td>\n",
       "    </tr>\n",
       "    <tr>\n",
       "      <th>58</th>\n",
       "      <td>South</td>\n",
       "      <td>West Ham</td>\n",
       "      <td>1486</td>\n",
       "      <td>122</td>\n",
       "    </tr>\n",
       "    <tr>\n",
       "      <th>59</th>\n",
       "      <td>South</td>\n",
       "      <td>Wolverhampton</td>\n",
       "      <td>1485</td>\n",
       "      <td>81</td>\n",
       "    </tr>\n",
       "    <tr>\n",
       "      <th>60</th>\n",
       "      <td>North</td>\n",
       "      <td>York</td>\n",
       "      <td>1378</td>\n",
       "      <td>71</td>\n",
       "    </tr>\n",
       "  </tbody>\n",
       "</table>\n",
       "<p>61 rows × 4 columns</p>\n",
       "</div>"
      ],
      "text/plain": [
       "   location           town  mortality  hardness\n",
       "0     South           Bath       1247       105\n",
       "1     North     Birkenhead       1668        17\n",
       "2     South     Birmingham       1466         5\n",
       "3     North      Blackburn       1800        14\n",
       "4     North      Blackpool       1609        18\n",
       "..      ...            ...        ...       ...\n",
       "56    South        Walsall       1527        60\n",
       "57    South  West Bromwich       1627        53\n",
       "58    South       West Ham       1486       122\n",
       "59    South  Wolverhampton       1485        81\n",
       "60    North           York       1378        71\n",
       "\n",
       "[61 rows x 4 columns]"
      ]
     },
     "execution_count": 16,
     "metadata": {},
     "output_type": "execute_result"
    }
   ],
   "source": [
    "from statsmodels.stats.weightstats import _tconfint_generic\n",
    "df = pd.read_csv('water.txt', delimiter = \"\\t\")\n",
    "df"
   ]
  },
  {
   "cell_type": "code",
   "execution_count": 21,
   "metadata": {},
   "outputs": [
    {
     "data": {
      "text/plain": [
       "North    35\n",
       "South    26\n",
       "Name: location, dtype: int64"
      ]
     },
     "execution_count": 21,
     "metadata": {},
     "output_type": "execute_result"
    }
   ],
   "source": [
    "df.location.value_counts()"
   ]
  },
  {
   "cell_type": "code",
   "execution_count": 27,
   "metadata": {},
   "outputs": [
    {
     "name": "stdout",
     "output_type": "stream",
     "text": [
      "1524.1475409836066\n",
      "24.028521714278174\n"
     ]
    }
   ],
   "source": [
    "mean_mort = df.mortality.mean()\n",
    "std_mort = df.mortality.std(ddof=1)/np.sqrt(df.shape[0])\n",
    "print(mean_mort)\n",
    "print(std_mort)"
   ]
  },
  {
   "cell_type": "code",
   "execution_count": 28,
   "metadata": {},
   "outputs": [
    {
     "name": "stdout",
     "output_type": "stream",
     "text": [
      "mean yaerly mortality 95%% confidence interval (1476.0833413552848, 1572.2117406119285)\n"
     ]
    }
   ],
   "source": [
    "print(\"mean yaerly mortality 95%% confidence interval\", _tconfint_generic(mean_mort, std_mort,\n",
    "                                                                       len(df) - 1,\n",
    "                                                                       0.05, 'two-sided'))"
   ]
  },
  {
   "cell_type": "markdown",
   "metadata": {},
   "source": [
    "# Вопрос 3\n",
    "На данных из предыдущего вопроса постройте 95% доверительный интервал для средней годовой смертности по всем южным городам. Чему равна его верхняя граница? Округлите ответ до 4 знаков после десятичной точки.\n",
    "\n"
   ]
  },
  {
   "cell_type": "code",
   "execution_count": 31,
   "metadata": {},
   "outputs": [
    {
     "name": "stdout",
     "output_type": "stream",
     "text": [
      "1376.8076923076924\n",
      "27.509048538240833\n"
     ]
    }
   ],
   "source": [
    "mean_mort_s = df[df.location=='South'].mortality.mean()\n",
    "std_mort_s =  df[df.location=='South'].mortality.std(ddof=1)/np.sqrt(df[df.location=='South'].shape[0])\n",
    "print(mean_mort_s)\n",
    "print(std_mort_s)"
   ]
  },
  {
   "cell_type": "code",
   "execution_count": 32,
   "metadata": {},
   "outputs": [
    {
     "name": "stdout",
     "output_type": "stream",
     "text": [
      "mean yaerly mortality 95%% confidence interval for Southern towns (1320.1517462936238, 1433.463638321761)\n"
     ]
    }
   ],
   "source": [
    "print(\"mean yaerly mortality 95%% confidence interval for Southern towns\", _tconfint_generic(mean_mort_s, std_mort_s,\n",
    "                                                                       len(df[df.location=='South']) - 1,\n",
    "                                                                       0.05, 'two-sided'))"
   ]
  },
  {
   "cell_type": "markdown",
   "metadata": {},
   "source": [
    "# Вопрос 4\n",
    "На тех же данных постройте 95% доверительный интервал для средней годовой смертности по всем северным городам. Пересекается ли этот интервал с предыдущим? Как вы думаете, какой из этого можно сделать вывод?"
   ]
  },
  {
   "cell_type": "code",
   "execution_count": 33,
   "metadata": {},
   "outputs": [
    {
     "name": "stdout",
     "output_type": "stream",
     "text": [
      "1633.6\n",
      "23.146562624816188\n",
      "\n",
      "mean yaerly mortality 95%% confidence interval for Northern towns (1586.5605251961385, 1680.6394748038613)\n"
     ]
    }
   ],
   "source": [
    "mean_mort_n = df[df.location=='North'].mortality.mean()\n",
    "std_mort_n =  df[df.location=='North'].mortality.std(ddof=1)/np.sqrt(df[df.location=='North'].shape[0])\n",
    "print(mean_mort_n)\n",
    "print(std_mort_n)\n",
    "\n",
    "print(\"\\nmean yaerly mortality 95%% confidence interval for Northern towns\", _tconfint_generic(mean_mort_n, \n",
    "                                                                                               std_mort_n,\n",
    "                                                                       len(df[df.location=='North']) - 1,\n",
    "                                                                       0.05, 'two-sided'))"
   ]
  },
  {
   "cell_type": "markdown",
   "metadata": {},
   "source": [
    "# Вопрос 5\n",
    "\n",
    "Вопрос 5\n",
    "Пересекаются ли 95% доверительные интервалы для средней жёсткости воды в северных и южных городах?"
   ]
  },
  {
   "cell_type": "code",
   "execution_count": 34,
   "metadata": {},
   "outputs": [
    {
     "name": "stdout",
     "output_type": "stream",
     "text": [
      "30.4\n",
      "4.417535721274871\n",
      "\n",
      " 69.76923076923077\n",
      "7.9153808776248935\n",
      "\n",
      "mean hardness 95% confidence interval for Northern towns (21.42248728572426, 39.37751271427574)\n",
      "\n",
      "mean hardness 95% confidence interval for Southern towns (53.467198692036106, 86.07126284642544)\n"
     ]
    }
   ],
   "source": [
    "mean_h_n = df[df.location=='North'].hardness.mean()\n",
    "std_h_n =  df[df.location=='North'].hardness.std(ddof=1)/np.sqrt(df[df.location=='North'].shape[0])\n",
    "print(mean_h_n)\n",
    "print(std_h_n)\n",
    "\n",
    "mean_h_s = df[df.location=='South'].hardness.mean()\n",
    "std_h_s =  df[df.location=='South'].hardness.std(ddof=1)/np.sqrt(df[df.location=='South'].shape[0])\n",
    "print('\\n', mean_h_s)\n",
    "print(std_h_s)\n",
    "\n",
    "print(\"\\nmean hardness 95% confidence interval for Northern towns\", _tconfint_generic(mean_h_n, std_h_n,\n",
    "                                                                       len(df[df.location=='North']) - 1,\n",
    "                                                                       0.05, 'two-sided'))\n",
    "\n",
    "print(\"\\nmean hardness 95% confidence interval for Southern towns\", _tconfint_generic(mean_h_s, std_h_s,\n",
    "                                                                       len(df[df.location=='South']) - 1,\n",
    "                                                                       0.05, 'two-sided'))"
   ]
  },
  {
   "cell_type": "markdown",
   "metadata": {},
   "source": [
    "# Task 6\n",
    "Вспомним формулу доверительного интервала для среднего нормально распределённой случайной величины с дисперсией $\\sigma^2$:\n",
    "\n",
    "$$\\bar{X}_n \\pm z_{1-\\frac{\\alpha}{2}} \\frac{\\sigma}{\\sqrt{n}}$$\n",
    "При $\\sigma$ = 1 какой нужен объём выборки, чтобы на уровне доверия 95% оценить среднее с точностью ±0.1?"
   ]
  },
  {
   "cell_type": "code",
   "execution_count": 35,
   "metadata": {},
   "outputs": [
    {
     "name": "stdout",
     "output_type": "stream",
     "text": [
      "Answer is 385.0\n"
     ]
    }
   ],
   "source": [
    "from scipy import stats\n",
    "\n",
    "print('Answer is', np.ceil((stats.norm.ppf(1-0.05/2) / 0.1)**2))"
   ]
  },
  {
   "cell_type": "code",
   "execution_count": 37,
   "metadata": {},
   "outputs": [
    {
     "data": {
      "text/plain": [
       "384.14588206941244"
      ]
     },
     "execution_count": 37,
     "metadata": {},
     "output_type": "execute_result"
    }
   ],
   "source": [
    "(stats.norm.ppf(1-0.05/2) / 0.1)**2"
   ]
  },
  {
   "cell_type": "code",
   "execution_count": 38,
   "metadata": {},
   "outputs": [
    {
     "data": {
      "text/plain": [
       "1.959963984540054"
      ]
     },
     "execution_count": 38,
     "metadata": {},
     "output_type": "execute_result"
    }
   ],
   "source": [
    "stats.norm.ppf(1-0.05/2)"
   ]
  },
  {
   "cell_type": "code",
   "execution_count": null,
   "metadata": {},
   "outputs": [],
   "source": []
  }
 ],
 "metadata": {
  "kernelspec": {
   "display_name": "Python 3",
   "language": "python",
   "name": "python3"
  },
  "language_info": {
   "codemirror_mode": {
    "name": "ipython",
    "version": 3
   },
   "file_extension": ".py",
   "mimetype": "text/x-python",
   "name": "python",
   "nbconvert_exporter": "python",
   "pygments_lexer": "ipython3",
   "version": "3.7.6"
  }
 },
 "nbformat": 4,
 "nbformat_minor": 4
}
