{
 "cells": [
  {
   "cell_type": "markdown",
   "metadata": {},
   "source": [
    "🥰"
   ]
  },
  {
   "cell_type": "markdown",
   "metadata": {},
   "source": [
    "# Вопрос 4\n",
    "Давайте вернёмся к данным выживаемости пациентов с лейкоцитарной лимфомой из видео про критерий знаков:\n",
    "\n",
    "49, 58, 75, 110, 112, 132, 151, 276, 281, 362*\n",
    "\n",
    "Измерено остаточное время жизни с момента начала наблюдения (в неделях); звёздочка обозначает цензурирование сверху — исследование длилось 7 лет, и остаточное время жизни одного пациента, который дожил до конца наблюдения, неизвестно.\n",
    "\n",
    "Поскольку цензурировано только одно наблюдение, для проверки гипотезы \n",
    "- $H_0\\colon$ medX = 200 \n",
    "на этих данных можно использовать критерий знаковых рангов — можно считать, что время дожития последнего пациента в точности равно 362, на ранг этого наблюдения это никак не повлияет. \n",
    "\n",
    "Критерием знаковых рангов проверьте эту гипотезу против двусторонней альтернативы, введите достигаемый уровень значимости, округлённый до четырёх знаков после десятичной точки.\n",
    "\n",
    "\n",
    "Для классификатора используйте solver='liblinear'\n",
    "Укажите для критерия знаковых рангов Вилкоксона mode='approx'\n",
    "1 балл\n"
   ]
  },
  {
   "cell_type": "code",
   "execution_count": 9,
   "metadata": {},
   "outputs": [],
   "source": [
    "import numpy as np\n",
    "import pandas as pd"
   ]
  },
  {
   "cell_type": "code",
   "execution_count": 8,
   "metadata": {},
   "outputs": [
    {
     "name": "stdout",
     "output_type": "stream",
     "text": [
      "Populating the interactive namespace from numpy and matplotlib\n"
     ]
    }
   ],
   "source": [
    "%pylab inline"
   ]
  },
  {
   "cell_type": "code",
   "execution_count": 12,
   "metadata": {},
   "outputs": [
    {
     "data": {
      "text/html": [
       "<div>\n",
       "<style scoped>\n",
       "    .dataframe tbody tr th:only-of-type {\n",
       "        vertical-align: middle;\n",
       "    }\n",
       "\n",
       "    .dataframe tbody tr th {\n",
       "        vertical-align: top;\n",
       "    }\n",
       "\n",
       "    .dataframe thead th {\n",
       "        text-align: right;\n",
       "    }\n",
       "</style>\n",
       "<table border=\"1\" class=\"dataframe\">\n",
       "  <thead>\n",
       "    <tr style=\"text-align: right;\">\n",
       "      <th></th>\n",
       "      <th>time</th>\n",
       "    </tr>\n",
       "  </thead>\n",
       "  <tbody>\n",
       "    <tr>\n",
       "      <th>0</th>\n",
       "      <td>49</td>\n",
       "    </tr>\n",
       "    <tr>\n",
       "      <th>1</th>\n",
       "      <td>58</td>\n",
       "    </tr>\n",
       "    <tr>\n",
       "      <th>2</th>\n",
       "      <td>75</td>\n",
       "    </tr>\n",
       "    <tr>\n",
       "      <th>3</th>\n",
       "      <td>110</td>\n",
       "    </tr>\n",
       "    <tr>\n",
       "      <th>4</th>\n",
       "      <td>112</td>\n",
       "    </tr>\n",
       "    <tr>\n",
       "      <th>5</th>\n",
       "      <td>132</td>\n",
       "    </tr>\n",
       "    <tr>\n",
       "      <th>6</th>\n",
       "      <td>151</td>\n",
       "    </tr>\n",
       "    <tr>\n",
       "      <th>7</th>\n",
       "      <td>276</td>\n",
       "    </tr>\n",
       "    <tr>\n",
       "      <th>8</th>\n",
       "      <td>281</td>\n",
       "    </tr>\n",
       "    <tr>\n",
       "      <th>9</th>\n",
       "      <td>362</td>\n",
       "    </tr>\n",
       "  </tbody>\n",
       "</table>\n",
       "</div>"
      ],
      "text/plain": [
       "   time\n",
       "0    49\n",
       "1    58\n",
       "2    75\n",
       "3   110\n",
       "4   112\n",
       "5   132\n",
       "6   151\n",
       "7   276\n",
       "8   281\n",
       "9   362"
      ]
     },
     "execution_count": 12,
     "metadata": {},
     "output_type": "execute_result"
    }
   ],
   "source": [
    "data = pd.DataFrame(np.array([49, 58, 75, 110, 112, 132, 151, 276, 281, 362]))\n",
    "data.columns = ['time']\n",
    "data"
   ]
  },
  {
   "cell_type": "code",
   "execution_count": 13,
   "metadata": {},
   "outputs": [
    {
     "data": {
      "text/html": [
       "<div>\n",
       "<style scoped>\n",
       "    .dataframe tbody tr th:only-of-type {\n",
       "        vertical-align: middle;\n",
       "    }\n",
       "\n",
       "    .dataframe tbody tr th {\n",
       "        vertical-align: top;\n",
       "    }\n",
       "\n",
       "    .dataframe thead th {\n",
       "        text-align: right;\n",
       "    }\n",
       "</style>\n",
       "<table border=\"1\" class=\"dataframe\">\n",
       "  <thead>\n",
       "    <tr style=\"text-align: right;\">\n",
       "      <th></th>\n",
       "      <th>time</th>\n",
       "    </tr>\n",
       "  </thead>\n",
       "  <tbody>\n",
       "    <tr>\n",
       "      <th>count</th>\n",
       "      <td>10.000000</td>\n",
       "    </tr>\n",
       "    <tr>\n",
       "      <th>mean</th>\n",
       "      <td>160.600000</td>\n",
       "    </tr>\n",
       "    <tr>\n",
       "      <th>std</th>\n",
       "      <td>107.763321</td>\n",
       "    </tr>\n",
       "    <tr>\n",
       "      <th>min</th>\n",
       "      <td>49.000000</td>\n",
       "    </tr>\n",
       "    <tr>\n",
       "      <th>25%</th>\n",
       "      <td>83.750000</td>\n",
       "    </tr>\n",
       "    <tr>\n",
       "      <th>50%</th>\n",
       "      <td>122.000000</td>\n",
       "    </tr>\n",
       "    <tr>\n",
       "      <th>75%</th>\n",
       "      <td>244.750000</td>\n",
       "    </tr>\n",
       "    <tr>\n",
       "      <th>max</th>\n",
       "      <td>362.000000</td>\n",
       "    </tr>\n",
       "  </tbody>\n",
       "</table>\n",
       "</div>"
      ],
      "text/plain": [
       "             time\n",
       "count   10.000000\n",
       "mean   160.600000\n",
       "std    107.763321\n",
       "min     49.000000\n",
       "25%     83.750000\n",
       "50%    122.000000\n",
       "75%    244.750000\n",
       "max    362.000000"
      ]
     },
     "execution_count": 13,
     "metadata": {},
     "output_type": "execute_result"
    }
   ],
   "source": [
    "data.describe()"
   ]
  },
  {
   "cell_type": "code",
   "execution_count": 15,
   "metadata": {},
   "outputs": [
    {
     "data": {
      "image/png": "[encoded data removed]",
      "text/plain": [
       "<Figure size 432x288 with 1 Axes>"
      ]
     },
     "metadata": {
      "needs_background": "light"
     },
     "output_type": "display_data"
    }
   ],
   "source": [
    "pylab.hist(data.time)\n",
    "pylab.show()"
   ]
  },
  {
   "cell_type": "code",
   "execution_count": 19,
   "metadata": {},
   "outputs": [
    {
     "name": "stdout",
     "output_type": "stream",
     "text": [
      "95% confidence interval for the mean time: [93.808829, 227.391171]\n"
     ]
    }
   ],
   "source": [
    "from statsmodels.stats.weightstats import zconfint\n",
    "print('95%% confidence interval for the mean time: [%f, %f]' % zconfint(data.time))"
   ]
  },
  {
   "cell_type": "markdown",
   "metadata": {},
   "source": [
    "### Критерий знаков"
   ]
  },
  {
   "cell_type": "markdown",
   "metadata": {},
   "source": [
    "$H_0\\colon$ медиана времени равна 200\n",
    "\n",
    "$H_1\\colon$ медиана времени не равна 200"
   ]
  },
  {
   "cell_type": "code",
   "execution_count": 24,
   "metadata": {},
   "outputs": [
    {
     "name": "stdout",
     "output_type": "stream",
     "text": [
      "M: -2, p-value: 0.343750\n"
     ]
    }
   ],
   "source": [
    "from statsmodels.stats.descriptivestats import sign_test\n",
    "print(\"M: %d, p-value: %f\" % sign_test(data.time, 200))"
   ]
  },
  {
   "cell_type": "markdown",
   "metadata": {},
   "source": [
    "### Критерий знаковых рангов Вилкоксона"
   ]
  },
  {
   "cell_type": "code",
   "execution_count": 25,
   "metadata": {},
   "outputs": [],
   "source": [
    "from scipy import stats"
   ]
  },
  {
   "cell_type": "code",
   "execution_count": 29,
   "metadata": {},
   "outputs": [
    {
     "data": {
      "text/plain": [
       "WilcoxonResult(statistic=17.0, pvalue=0.2845026979112075)"
      ]
     },
     "execution_count": 29,
     "metadata": {},
     "output_type": "execute_result"
    }
   ],
   "source": [
    "m0 = 200\n",
    "stats.wilcoxon(data.time - m0, mode='approx')"
   ]
  },
  {
   "cell_type": "markdown",
   "metadata": {},
   "source": [
    "# Вопрос 5\n",
    "В ходе исследования влияния лесозаготовки на биоразнообразие лесов острова Борнео собраны данные о количестве видов деревьев в 12 лесах, где вырубка не ведётся:\n",
    "\n",
    "- 22, 22, 15, 13, 19, 19, 18, 20, 21, 13, 13, 15\n",
    "\n",
    "и в 9 лесах, где идёт вырубка:\n",
    "\n",
    "- 17, 18, 18, 15, 12, 4, 14, 15, 10.\n",
    "\n",
    "\n",
    "Проверьте гипотезу о равенстве среднего количества видов в двух типах лесов против односторонней альтернативы о снижении биоразнообразия в вырубаемых лесах. Используйте ранговый критерий. Чему равен достигаемый уровень значимости? Округлите до четырёх знаков после десятичной точки."
   ]
  },
  {
   "cell_type": "code",
   "execution_count": 32,
   "metadata": {},
   "outputs": [
    {
     "data": {
      "text/html": [
       "<div>\n",
       "<style scoped>\n",
       "    .dataframe tbody tr th:only-of-type {\n",
       "        vertical-align: middle;\n",
       "    }\n",
       "\n",
       "    .dataframe tbody tr th {\n",
       "        vertical-align: top;\n",
       "    }\n",
       "\n",
       "    .dataframe thead th {\n",
       "        text-align: right;\n",
       "    }\n",
       "</style>\n",
       "<table border=\"1\" class=\"dataframe\">\n",
       "  <thead>\n",
       "    <tr style=\"text-align: right;\">\n",
       "      <th></th>\n",
       "      <th>species</th>\n",
       "    </tr>\n",
       "  </thead>\n",
       "  <tbody>\n",
       "    <tr>\n",
       "      <th>0</th>\n",
       "      <td>22</td>\n",
       "    </tr>\n",
       "    <tr>\n",
       "      <th>1</th>\n",
       "      <td>22</td>\n",
       "    </tr>\n",
       "    <tr>\n",
       "      <th>2</th>\n",
       "      <td>15</td>\n",
       "    </tr>\n",
       "    <tr>\n",
       "      <th>3</th>\n",
       "      <td>13</td>\n",
       "    </tr>\n",
       "    <tr>\n",
       "      <th>4</th>\n",
       "      <td>19</td>\n",
       "    </tr>\n",
       "    <tr>\n",
       "      <th>5</th>\n",
       "      <td>19</td>\n",
       "    </tr>\n",
       "    <tr>\n",
       "      <th>6</th>\n",
       "      <td>18</td>\n",
       "    </tr>\n",
       "    <tr>\n",
       "      <th>7</th>\n",
       "      <td>20</td>\n",
       "    </tr>\n",
       "    <tr>\n",
       "      <th>8</th>\n",
       "      <td>21</td>\n",
       "    </tr>\n",
       "    <tr>\n",
       "      <th>9</th>\n",
       "      <td>13</td>\n",
       "    </tr>\n",
       "    <tr>\n",
       "      <th>10</th>\n",
       "      <td>13</td>\n",
       "    </tr>\n",
       "    <tr>\n",
       "      <th>11</th>\n",
       "      <td>15</td>\n",
       "    </tr>\n",
       "  </tbody>\n",
       "</table>\n",
       "</div>"
      ],
      "text/plain": [
       "    species\n",
       "0        22\n",
       "1        22\n",
       "2        15\n",
       "3        13\n",
       "4        19\n",
       "5        19\n",
       "6        18\n",
       "7        20\n",
       "8        21\n",
       "9        13\n",
       "10       13\n",
       "11       15"
      ]
     },
     "execution_count": 32,
     "metadata": {},
     "output_type": "execute_result"
    }
   ],
   "source": [
    "data_nocut = pd.DataFrame(np.array([22, 22, 15, 13, 19, 19, 18, 20, 21, 13, 13, 15]))\n",
    "data_cut = pd.DataFrame(np.array([17, 18, 18, 15, 12, 4, 14, 15, 10]))\n",
    "data_cut.columns = ['species']\n",
    "data_nocut.columns = ['species']\n",
    "data_nocut"
   ]
  },
  {
   "cell_type": "code",
   "execution_count": 33,
   "metadata": {},
   "outputs": [
    {
     "data": {
      "text/html": [
       "<div>\n",
       "<style scoped>\n",
       "    .dataframe tbody tr th:only-of-type {\n",
       "        vertical-align: middle;\n",
       "    }\n",
       "\n",
       "    .dataframe tbody tr th {\n",
       "        vertical-align: top;\n",
       "    }\n",
       "\n",
       "    .dataframe thead th {\n",
       "        text-align: right;\n",
       "    }\n",
       "</style>\n",
       "<table border=\"1\" class=\"dataframe\">\n",
       "  <thead>\n",
       "    <tr style=\"text-align: right;\">\n",
       "      <th></th>\n",
       "      <th>species</th>\n",
       "    </tr>\n",
       "  </thead>\n",
       "  <tbody>\n",
       "    <tr>\n",
       "      <th>count</th>\n",
       "      <td>12.0000</td>\n",
       "    </tr>\n",
       "    <tr>\n",
       "      <th>mean</th>\n",
       "      <td>17.5000</td>\n",
       "    </tr>\n",
       "    <tr>\n",
       "      <th>std</th>\n",
       "      <td>3.5291</td>\n",
       "    </tr>\n",
       "    <tr>\n",
       "      <th>min</th>\n",
       "      <td>13.0000</td>\n",
       "    </tr>\n",
       "    <tr>\n",
       "      <th>25%</th>\n",
       "      <td>14.5000</td>\n",
       "    </tr>\n",
       "    <tr>\n",
       "      <th>50%</th>\n",
       "      <td>18.5000</td>\n",
       "    </tr>\n",
       "    <tr>\n",
       "      <th>75%</th>\n",
       "      <td>20.2500</td>\n",
       "    </tr>\n",
       "    <tr>\n",
       "      <th>max</th>\n",
       "      <td>22.0000</td>\n",
       "    </tr>\n",
       "  </tbody>\n",
       "</table>\n",
       "</div>"
      ],
      "text/plain": [
       "       species\n",
       "count  12.0000\n",
       "mean   17.5000\n",
       "std     3.5291\n",
       "min    13.0000\n",
       "25%    14.5000\n",
       "50%    18.5000\n",
       "75%    20.2500\n",
       "max    22.0000"
      ]
     },
     "execution_count": 33,
     "metadata": {},
     "output_type": "execute_result"
    }
   ],
   "source": [
    "data_nocut.describe()"
   ]
  },
  {
   "cell_type": "code",
   "execution_count": 34,
   "metadata": {},
   "outputs": [
    {
     "data": {
      "text/html": [
       "<div>\n",
       "<style scoped>\n",
       "    .dataframe tbody tr th:only-of-type {\n",
       "        vertical-align: middle;\n",
       "    }\n",
       "\n",
       "    .dataframe tbody tr th {\n",
       "        vertical-align: top;\n",
       "    }\n",
       "\n",
       "    .dataframe thead th {\n",
       "        text-align: right;\n",
       "    }\n",
       "</style>\n",
       "<table border=\"1\" class=\"dataframe\">\n",
       "  <thead>\n",
       "    <tr style=\"text-align: right;\">\n",
       "      <th></th>\n",
       "      <th>species</th>\n",
       "    </tr>\n",
       "  </thead>\n",
       "  <tbody>\n",
       "    <tr>\n",
       "      <th>count</th>\n",
       "      <td>9.000000</td>\n",
       "    </tr>\n",
       "    <tr>\n",
       "      <th>mean</th>\n",
       "      <td>13.666667</td>\n",
       "    </tr>\n",
       "    <tr>\n",
       "      <th>std</th>\n",
       "      <td>4.500000</td>\n",
       "    </tr>\n",
       "    <tr>\n",
       "      <th>min</th>\n",
       "      <td>4.000000</td>\n",
       "    </tr>\n",
       "    <tr>\n",
       "      <th>25%</th>\n",
       "      <td>12.000000</td>\n",
       "    </tr>\n",
       "    <tr>\n",
       "      <th>50%</th>\n",
       "      <td>15.000000</td>\n",
       "    </tr>\n",
       "    <tr>\n",
       "      <th>75%</th>\n",
       "      <td>17.000000</td>\n",
       "    </tr>\n",
       "    <tr>\n",
       "      <th>max</th>\n",
       "      <td>18.000000</td>\n",
       "    </tr>\n",
       "  </tbody>\n",
       "</table>\n",
       "</div>"
      ],
      "text/plain": [
       "         species\n",
       "count   9.000000\n",
       "mean   13.666667\n",
       "std     4.500000\n",
       "min     4.000000\n",
       "25%    12.000000\n",
       "50%    15.000000\n",
       "75%    17.000000\n",
       "max    18.000000"
      ]
     },
     "execution_count": 34,
     "metadata": {},
     "output_type": "execute_result"
    }
   ],
   "source": [
    "data_cut.describe()"
   ]
  },
  {
   "cell_type": "code",
   "execution_count": 38,
   "metadata": {},
   "outputs": [
    {
     "data": {
      "image/png": "[encoded data removed]",
      "text/plain": [
       "<Figure size 864x288 with 2 Axes>"
      ]
     },
     "metadata": {
      "needs_background": "light"
     },
     "output_type": "display_data"
    }
   ],
   "source": [
    "pylab.figure(figsize=(12,4))\n",
    "\n",
    "pylab.subplot(1,2,1)\n",
    "pylab.grid()\n",
    "pylab.hist(data_nocut, color = 'r')\n",
    "pylab.xlabel('nocut')\n",
    "\n",
    "pylab.subplot(1,2,2)\n",
    "pylab.grid()\n",
    "pylab.hist(data_cut, color = 'b')\n",
    "pylab.hist(data_nocut, color = 'r')\n",
    "pylab.xlabel('cut')\n",
    "\n",
    "pylab.show()"
   ]
  },
  {
   "cell_type": "markdown",
   "metadata": {},
   "source": [
    "## Двухвыборочные критерии для независимых выборок"
   ]
  },
  {
   "cell_type": "code",
   "execution_count": 40,
   "metadata": {},
   "outputs": [
    {
     "name": "stdout",
     "output_type": "stream",
     "text": [
      "95% confidence interval for the mean: [15.503261, 19.496739]\n"
     ]
    }
   ],
   "source": [
    "print('95%% confidence interval for the mean: [%f, %f]' % zconfint(data_nocut))"
   ]
  },
  {
   "cell_type": "code",
   "execution_count": 41,
   "metadata": {},
   "outputs": [
    {
     "name": "stdout",
     "output_type": "stream",
     "text": [
      "95% confidence interval for the mean: [10.726721, 16.606613]\n"
     ]
    }
   ],
   "source": [
    "print('95%% confidence interval for the mean: [%f, %f]' % zconfint(data_cut))"
   ]
  },
  {
   "cell_type": "markdown",
   "metadata": {},
   "source": [
    "### Ранговый критерий Манна-Уитни"
   ]
  },
  {
   "cell_type": "markdown",
   "metadata": {},
   "source": [
    "$H_0\\colon F_{X_1}(x) = F_{X_2}(x)$\n",
    "\n",
    "$H_1\\colon F_{X_1}(x) = F_{X_2}(x + \\Delta), \\Delta\\neq 0$"
   ]
  },
  {
   "cell_type": "code",
   "execution_count": 43,
   "metadata": {},
   "outputs": [
    {
     "data": {
      "text/plain": [
       "MannwhitneyuResult(statistic=27.0, pvalue=0.02900499272087373)"
      ]
     },
     "execution_count": 43,
     "metadata": {},
     "output_type": "execute_result"
    }
   ],
   "source": [
    "stats.mannwhitneyu(data_nocut, data_cut)"
   ]
  },
  {
   "cell_type": "markdown",
   "metadata": {},
   "source": [
    "# Вопрос 6\n",
    "28 января 1986 года космический шаттл \"Челленджер\" взорвался при взлёте. Семь астронавтов, находившихся на борту, погибли. В ходе расследования причин катастрофы основной версией была неполадка с резиновыми уплотнительными кольцами в соединении с ракетными ускорителями. Для 23 предшествовавших катастрофе полётов \"Челленджера\" известны температура воздуха и появление повреждений хотя бы у одного из уплотнительных колец."
   ]
  },
  {
   "cell_type": "markdown",
   "metadata": {},
   "source": [
    "С помощью бутстрепа постройте 95% доверительный интервал для разности средних температур воздуха при запусках, когда уплотнительные кольца повреждались, и запусках, когда повреждений не было. Чему равна его ближайшая к нулю граница? Округлите до четырёх знаков после запятой.\n",
    "\n",
    "Чтобы получить в точности такой же доверительный интервал, как у нас:\n",
    "\n",
    "установите random seed = 0 перед первым вызовом функции get_bootstrap_samples, один раз\n",
    "сделайте по 1000 псевдовыборок из каждой выборки."
   ]
  },
  {
   "cell_type": "code",
   "execution_count": 53,
   "metadata": {},
   "outputs": [],
   "source": [
    "data = pd.read_csv('challenger.txt', sep='\\t')"
   ]
  },
  {
   "cell_type": "code",
   "execution_count": 115,
   "metadata": {},
   "outputs": [],
   "source": [
    "data_incident0 = data[['Temperature']][data.Incident == 0]\n",
    "data_incident1 = data[['Temperature']][data.Incident == 1]"
   ]
  },
  {
   "cell_type": "code",
   "execution_count": 116,
   "metadata": {},
   "outputs": [
    {
     "data": {
      "text/plain": [
       "Temperature    22.28125\n",
       "dtype: float64"
      ]
     },
     "execution_count": 116,
     "metadata": {},
     "output_type": "execute_result"
    }
   ],
   "source": [
    "data_incident0.mean()"
   ]
  },
  {
   "cell_type": "code",
   "execution_count": 117,
   "metadata": {},
   "outputs": [
    {
     "data": {
      "text/plain": [
       "Temperature    17.614286\n",
       "dtype: float64"
      ]
     },
     "execution_count": 117,
     "metadata": {},
     "output_type": "execute_result"
    }
   ],
   "source": [
    "data_incident1.mean()"
   ]
  },
  {
   "cell_type": "code",
   "execution_count": 121,
   "metadata": {},
   "outputs": [],
   "source": [
    "def get_bootstrap_samples(data, n_samples):\n",
    "    data = np.array(data)\n",
    "    indices = np.random.randint(0, len(data), (n_samples, len(data)))\n",
    "    samples = data[indices]\n",
    "    return samples"
   ]
  },
  {
   "cell_type": "code",
   "execution_count": 126,
   "metadata": {},
   "outputs": [],
   "source": [
    "np.random.seed(0)\n",
    "samples_incident0 = get_bootstrap_samples(data_incident0['Temperature'], 1000)\n",
    "samples_incident1 = get_bootstrap_samples(data_incident1['Temperature'], 1000)"
   ]
  },
  {
   "cell_type": "code",
   "execution_count": 155,
   "metadata": {},
   "outputs": [],
   "source": [
    "means_samples_incident0 = list(map(lambda x: x.mean(), samples_incident0))\n",
    "means_samples_incident1 = list(map(lambda x: x.mean(), samples_incident1))\n",
    "\n",
    "diffs = np.array(means_samples_incident1) - np.array(means_samples_incident0)"
   ]
  },
  {
   "cell_type": "code",
   "execution_count": 156,
   "metadata": {},
   "outputs": [
    {
     "data": {
      "text/plain": [
       "array([-3.79375   , -4.06160714, -1.97589286, -5.02142857, -2.06071429,\n",
       "       -3.5625    , -5.93928571, -4.05982143, -6.99196429, -3.62678571,\n",
       "       -4.00267857, -3.61071429, -3.62232143, -5.31160714, -5.76785714,\n",
       "       -4.52410714, -2.18125   , -4.82589286, -6.13035714, -3.07857143,\n",
       "       -4.69821429, -4.15446429, -1.44642857, -4.12946429, -4.83214286,\n",
       "       -3.65625   , -3.66875   , -5.51160714, -2.33571429, -2.72857143,\n",
       "       -1.04464286, -7.4625    , -4.14285714, -0.98839286, -5.87053571,\n",
       "       -3.85803571, -2.67410714, -3.26339286, -6.28303571, -3.47321429,\n",
       "       -4.79017857, -4.85803571, -4.21071429, -4.08214286, -1.59017857,\n",
       "       -5.73125   , -5.93392857, -4.28214286, -3.65178571, -4.03928571,\n",
       "       -3.69017857, -3.63392857, -6.71875   , -5.35535714, -4.41696429,\n",
       "       -6.43839286, -5.52946429, -6.07589286, -3.87053571, -3.91071429,\n",
       "       -6.8125    , -4.03392857, -1.55803571, -2.34910714, -3.69642857,\n",
       "       -4.34464286, -7.89196429, -6.57589286, -5.40267857, -5.975     ,\n",
       "       -8.67053571,  0.31785714, -6.29375   , -7.56696429, -0.94821429,\n",
       "       -7.70892857, -4.29464286, -3.58928571, -6.81160714, -4.32767857,\n",
       "       -2.29017857, -2.23392857, -7.68214286, -2.61875   , -4.33482143,\n",
       "       -3.74285714, -4.16785714, -4.57053571, -4.49642857, -5.45714286,\n",
       "       -5.90535714, -5.90446429, -5.16428571, -6.40178571, -3.54017857,\n",
       "       -8.11071429, -4.30357143, -4.89642857, -4.00625   , -6.04107143,\n",
       "       -4.55446429, -3.69375   , -5.47321429, -6.14821429, -7.17142857,\n",
       "        0.67410714, -8.46339286, -2.64107143, -2.66696429, -5.87678571,\n",
       "       -6.89553571, -6.39107143, -2.29732143, -5.15446429, -6.14464286,\n",
       "       -6.25089286, -6.90267857, -6.24642857, -2.08928571, -0.62589286,\n",
       "       -4.025     , -2.9625    , -5.61428571, -5.80089286, -6.00714286,\n",
       "       -4.39732143, -3.93482143, -2.58392857, -3.11696429, -3.29017857,\n",
       "       -5.93482143, -7.28482143, -4.82589286, -4.35357143, -3.30089286,\n",
       "       -4.3625    , -4.82589286, -2.16339286, -4.42589286, -6.17321429,\n",
       "       -6.3125    , -4.78214286, -4.90982143, -2.71339286, -1.41428571,\n",
       "       -5.87232143, -6.01785714, -2.05892857, -6.20803571, -1.79553571,\n",
       "       -6.9875    , -2.29732143, -7.72053571, -7.28035714, -4.73660714,\n",
       "       -2.34553571, -5.31071429, -5.19821429, -6.84732143, -5.69017857,\n",
       "       -2.85267857, -4.98928571, -4.41517857, -6.75803571, -2.90446429,\n",
       "       -4.58839286, -7.5875    , -3.80982143, -7.09464286, -3.41607143,\n",
       "       -6.19196429, -2.67767857, -2.60714286, -5.18660714, -3.98571429,\n",
       "       -6.53928571, -6.87232143, -4.36517857, -5.78482143,  0.65      ,\n",
       "       -7.32946429, -3.07678571, -3.69285714, -6.14464286, -6.74196429,\n",
       "       -6.17053571, -3.46428571, -5.27321429, -8.67678571, -3.29107143,\n",
       "       -6.13125   , -5.66071429, -5.51339286, -3.41160714, -5.88660714,\n",
       "       -2.47410714, -6.21428571, -4.42053571, -4.25178571, -3.83482143,\n",
       "       -3.5125    , -3.80625   , -3.41785714, -3.45089286, -2.53125   ,\n",
       "       -2.30178571, -5.52767857, -6.90625   , -3.53214286, -5.08303571,\n",
       "       -8.00892857, -6.47857143, -6.85535714, -2.31696429, -3.64821429,\n",
       "       -4.43928571, -1.42321429, -6.61517857, -2.80803571, -4.12410714,\n",
       "       -9.55714286, -2.37946429, -5.12321429, -2.23660714, -4.65178571,\n",
       "       -3.95089286, -4.89196429, -5.24821429, -3.1625    , -5.93928571,\n",
       "       -2.69464286, -6.85982143, -5.77678571, -4.04285714, -4.04107143,\n",
       "       -5.86339286,  1.11875   , -5.01696429, -4.05625   , -4.65535714,\n",
       "       -3.33214286, -4.14642857, -5.84821429, -4.86428571, -7.37321429,\n",
       "       -4.11875   , -4.40178571, -2.10535714, -5.05714286, -7.38125   ,\n",
       "       -5.70982143, -3.35982143, -4.36339286, -5.76696429, -3.98125   ,\n",
       "       -2.32857143, -7.70714286, -4.10803571, -5.07946429, -4.93303571,\n",
       "       -3.97678571, -4.23482143, -7.91964286, -3.19642857, -5.05446429,\n",
       "       -5.50357143, -2.81160714, -6.28839286, -4.89642857, -7.35535714,\n",
       "       -7.50178571, -5.26428571, -2.50357143, -7.36339286, -2.78571429,\n",
       "       -4.57410714, -5.74107143, -5.17767857, -7.73928571, -3.84464286,\n",
       "       -7.29196429, -5.21339286, -7.09732143, -5.01339286, -2.71607143,\n",
       "       -9.35714286, -5.02946429, -1.68928571, -6.19107143, -5.81785714,\n",
       "       -3.91339286, -5.68035714, -4.04107143, -5.13392857, -3.81696429,\n",
       "       -6.075     , -2.71428571, -5.71875   , -4.99910714, -4.29196429,\n",
       "       -4.46160714, -4.58660714, -4.83392857, -5.22589286, -4.30535714,\n",
       "       -5.19642857, -5.74732143, -2.72410714, -4.16785714, -3.87142857,\n",
       "       -6.58571429, -2.44375   , -5.11785714, -8.12678571, -2.4375    ,\n",
       "       -4.01964286, -3.84732143, -7.23392857, -3.09285714, -3.35357143,\n",
       "       -7.69642857, -4.98214286, -2.55892857, -8.04642857, -4.43392857,\n",
       "       -1.99017857, -3.20357143, -4.15357143, -3.38303571, -2.67142857,\n",
       "       -5.84464286, -3.0625    , -5.97142857, -2.96339286, -4.69642857,\n",
       "       -5.54732143, -6.63035714, -3.37589286, -2.62857143, -3.68839286,\n",
       "       -5.58482143, -2.7       , -6.13392857, -3.975     , -1.        ,\n",
       "       -4.21964286, -4.02589286, -2.63035714, -5.61785714, -3.57678571,\n",
       "       -3.78303571, -6.86785714, -5.50982143, -9.12053571, -4.50178571,\n",
       "       -4.44464286, -5.10625   , -5.88482143, -3.52321429, -5.63035714,\n",
       "       -2.3625    , -5.67321429, -4.13482143, -2.94910714, -3.21785714,\n",
       "       -4.52053571, -4.57053571, -5.98839286, -5.58125   , -8.60803571,\n",
       "       -4.77232143, -5.20982143, -4.48214286, -5.05178571, -5.65714286,\n",
       "       -4.08571429, -4.21785714, -2.84107143, -3.76428571, -4.00089286,\n",
       "       -5.41607143, -2.71607143, -6.48482143, -5.44821429, -5.8375    ,\n",
       "       -2.59017857, -5.00982143, -1.25267857, -0.80714286, -2.33571429,\n",
       "       -3.5625    , -2.05089286, -2.85892857, -5.95      , -3.07857143,\n",
       "       -4.96785714, -5.5       , -2.73928571, -2.39910714, -5.18928571,\n",
       "       -5.55625   , -4.82589286, -2.32678571, -5.88660714, -6.77232143,\n",
       "       -2.97053571, -4.36428571, -1.81607143, -5.90625   , -5.65625   ,\n",
       "       -5.20357143, -4.84196429, -2.53303571, -5.91071429, -3.25892857,\n",
       "       -4.73035714, -4.30803571, -6.54821429, -2.22142857, -3.99732143,\n",
       "       -6.27410714, -4.48839286, -6.16428571, -6.51696429, -3.93839286,\n",
       "       -3.82232143, -5.41607143, -4.9375    , -4.16875   , -7.43303571,\n",
       "       -1.52053571, -1.88482143, -1.81964286, -5.97678571, -3.02053571,\n",
       "       -5.2625    , -6.01517857, -5.23214286, -2.30803571, -6.85892857,\n",
       "       -5.67857143, -1.87589286, -4.58392857, -4.96160714, -4.50625   ,\n",
       "       -4.90178571, -5.47678571, -3.59732143, -5.59642857, -4.96160714,\n",
       "       -5.63928571, -4.86785714, -6.575     , -5.21517857, -5.55535714,\n",
       "       -2.96875   ,  0.20535714, -5.38214286, -5.37857143, -3.13214286,\n",
       "       -7.47232143, -7.84821429, -6.34375   , -8.23214286, -2.74910714,\n",
       "       -5.39732143, -4.125     , -3.62678571, -6.72142857, -2.51160714,\n",
       "       -4.97678571, -7.05      , -4.31964286, -3.27410714, -4.19910714,\n",
       "       -5.55267857, -6.90089286, -5.9125    , -2.64107143, -3.18035714,\n",
       "       -4.62053571, -7.42232143, -7.03214286, -3.89107143, -5.43482143,\n",
       "       -2.77410714, -5.58392857, -6.79821429, -6.375     , -3.47321429,\n",
       "       -5.90357143, -3.20535714, -8.16875   , -2.975     , -4.36160714,\n",
       "       -2.49285714, -4.33303571, -7.60982143, -3.85      , -7.24017857,\n",
       "       -2.22142857, -5.43839286, -6.79107143, -7.40982143, -1.92410714,\n",
       "       -5.23571429, -2.28660714, -1.68214286, -6.23392857, -6.73035714,\n",
       "       -3.45446429, -5.37767857, -4.23303571, -2.39375   , -3.675     ,\n",
       "       -3.21964286, -7.12767857, -4.20178571, -3.02142857, -2.97232143,\n",
       "       -6.70892857, -4.42946429, -4.50089286, -8.80803571, -5.08660714,\n",
       "       -3.82589286, -4.91071429, -4.33571429, -5.80803571, -2.28571429,\n",
       "       -4.79821429, -7.21607143, -3.49107143, -5.28125   , -7.54464286,\n",
       "       -5.06339286, -6.67321429, -6.26071429, -3.04553571, -5.71607143,\n",
       "       -4.27589286, -3.94642857, -1.82678571, -4.80267857, -1.71339286,\n",
       "       -3.04553571, -6.52142857, -4.81607143, -3.63303571, -5.51517857,\n",
       "       -7.15178571, -3.31517857, -3.06964286, -4.44910714, -5.32142857,\n",
       "       -6.14375   , -4.08303571, -4.49464286, -6.43660714, -6.58303571,\n",
       "       -3.72232143, -6.24553571, -3.57589286, -5.34910714, -3.98482143,\n",
       "       -4.12946429, -6.95178571, -4.275     , -5.82946429, -3.92589286,\n",
       "       -6.81785714, -5.25      , -4.75625   , -6.15535714, -3.07142857,\n",
       "       -5.70803571, -4.77142857, -4.45982143, -6.70178571, -2.62767857,\n",
       "       -6.5625    , -5.60089286, -6.575     , -3.60714286, -4.44375   ,\n",
       "       -6.27857143, -4.65089286, -6.23392857, -6.06160714, -5.77946429,\n",
       "       -6.02321429, -1.23839286, -3.71785714, -2.32410714, -2.26517857,\n",
       "       -3.42053571, -4.71071429, -4.50535714, -5.33482143, -7.17946429,\n",
       "       -3.27589286, -3.37857143, -6.18928571, -5.57053571, -5.64464286,\n",
       "       -3.21875   , -2.83482143, -4.89553571, -5.12142857, -4.40803571,\n",
       "       -4.68660714, -4.40178571, -1.75714286, -1.79553571, -1.49285714,\n",
       "       -4.07857143, -6.73214286, -7.26517857, -5.31339286, -3.88125   ,\n",
       "       -5.2875    , -6.14375   , -5.40089286, -4.56875   , -6.33125   ,\n",
       "       -4.01160714, -3.5       , -6.08839286, -6.52232143, -1.99375   ,\n",
       "       -4.2125    , -1.83571429, -5.79910714, -4.72142857, -3.67678571,\n",
       "       -2.35446429, -8.72589286, -5.91785714, -5.73214286, -4.55446429,\n",
       "       -3.26696429, -4.28125   , -3.73839286, -5.22321429, -4.19017857,\n",
       "       -4.15357143, -4.07678571, -6.26607143, -4.89375   , -4.41160714,\n",
       "       -4.025     , -6.74642857, -2.06160714, -4.18660714, -2.05446429,\n",
       "       -2.80267857, -5.18214286, -6.64821429, -4.04375   , -3.28928571,\n",
       "       -2.04196429, -2.86875   , -4.57053571, -6.15714286, -5.13214286,\n",
       "       -1.99642857, -6.09732143, -2.51964286, -6.63214286, -5.3       ,\n",
       "       -3.90446429, -3.73035714, -5.34553571, -3.77857143, -3.09732143,\n",
       "       -5.27053571, -3.40625   , -5.82946429, -4.29196429, -4.68928571,\n",
       "       -4.54196429, -3.47410714, -3.57142857, -8.13035714, -4.98571429,\n",
       "       -6.49375   , -1.76339286, -4.57410714, -4.13303571, -6.24017857,\n",
       "       -5.9875    , -3.98125   , -3.79732143, -4.9125    , -5.75357143,\n",
       "       -4.66607143, -5.42589286, -6.20267857, -3.44642857, -3.01428571,\n",
       "       -1.69375   , -4.89107143, -5.27142857, -6.83839286, -4.575     ,\n",
       "       -6.60803571, -6.32857143, -2.94553571, -4.72767857, -3.68125   ,\n",
       "       -4.95803571, -5.75089286, -5.52053571, -4.77767857, -4.625     ,\n",
       "       -1.73928571, -3.00803571, -2.48214286, -5.26071429, -5.49285714,\n",
       "       -4.24017857, -5.60535714, -4.6375    , -1.70892857, -4.07053571,\n",
       "       -4.04017857, -5.80535714, -6.06875   , -2.82053571, -3.83928571,\n",
       "       -2.82053571, -2.61964286, -1.31696429, -5.44196429, -3.72410714,\n",
       "       -5.36607143, -4.84196429, -3.42142857, -4.58392857, -8.73571429,\n",
       "       -0.85178571, -5.56071429, -4.53660714, -5.43125   , -5.06785714,\n",
       "       -4.35625   , -4.20178571, -5.09642857, -5.41339286, -3.59553571,\n",
       "       -6.33035714, -5.3       , -6.85357143, -6.15625   , -5.53125   ,\n",
       "       -6.46607143, -7.02410714, -5.63571429, -1.49553571, -2.81964286,\n",
       "       -4.79285714, -5.83571429, -5.18125   , -5.66607143, -2.22857143,\n",
       "       -5.08571429, -4.82410714, -2.53660714, -4.73035714, -5.17678571,\n",
       "       -5.66607143, -6.03125   , -4.20357143, -3.42232143, -6.27142857,\n",
       "       -6.90982143, -4.62142857, -5.72946429, -5.84285714, -3.38839286,\n",
       "       -7.75714286, -7.88660714, -5.09642857, -3.22232143, -1.61875   ,\n",
       "       -5.96964286, -4.75      , -2.17321429, -3.71339286, -4.89464286,\n",
       "       -2.60892857, -1.95803571, -2.08928571, -4.05089286, -4.95089286,\n",
       "        1.1625    , -2.69910714, -4.10714286, -3.20982143, -5.11339286,\n",
       "       -4.78035714, -5.63303571, -6.22232143, -3.42053571, -6.22321429,\n",
       "       -6.37053571, -3.24017857, -5.61517857, -5.02678571, -4.91071429,\n",
       "       -3.99642857, -5.48571429, -8.02767857, -3.03392857, -2.07142857,\n",
       "       -2.46785714, -5.375     , -6.67857143, -1.15714286, -3.33392857,\n",
       "       -5.81875   , -5.59285714, -1.12142857, -4.81696429, -4.93660714,\n",
       "       -2.42678571, -5.17410714, -2.01696429, -1.38214286, -4.10357143,\n",
       "       -3.14107143, -3.48839286, -6.30357143, -7.69464286, -5.30535714,\n",
       "       -7.28303571, -8.22410714, -8.40446429, -6.28303571, -4.59910714,\n",
       "       -2.55892857, -3.42410714, -4.99285714, -4.47410714, -1.72321429,\n",
       "       -5.09464286, -6.70089286, -5.54910714, -8.25267857, -5.96785714,\n",
       "       -5.89017857, -6.25357143, -4.66964286, -4.23214286, -4.92767857,\n",
       "        0.70535714, -3.53660714, -1.58928571, -6.27678571, -0.30714286,\n",
       "       -6.90982143, -2.97589286, -2.075     , -2.07678571, -1.89553571,\n",
       "       -6.43303571, -7.93839286, -6.71785714, -2.53660714, -2.32946429,\n",
       "       -6.33214286, -3.56339286, -6.33482143, -3.43928571, -1.39464286,\n",
       "       -5.60625   , -6.66785714, -3.69553571, -3.08303571, -4.31517857,\n",
       "       -4.43392857, -7.26964286, -4.58303571, -4.25357143, -2.53928571,\n",
       "       -6.2875    , -3.81160714, -5.825     , -2.47142857, -6.85982143,\n",
       "       -4.19375   , -3.36875   , -2.61785714, -4.47767857, -5.41160714,\n",
       "       -2.83303571, -3.13125   , -5.79910714, -1.74375   , -7.35178571,\n",
       "       -2.63303571, -6.34017857, -7.37589286, -5.92232143, -3.59910714,\n",
       "       -3.34732143, -4.99553571, -6.24107143, -5.03303571, -3.31875   ,\n",
       "       -5.075     , -6.44285714, -5.51339286, -4.09196429, -4.60535714,\n",
       "       -3.50357143, -3.88928571, -3.78392857, -4.87946429, -5.63035714,\n",
       "       -3.25535714, -4.34107143, -5.7125    , -4.01160714, -5.19553571,\n",
       "       -3.72321429, -2.925     , -6.63660714, -7.94732143, -5.13571429,\n",
       "       -1.88928571, -7.62678571, -4.        , -4.41339286, -6.04285714,\n",
       "       -4.77589286, -3.32410714, -3.53482143, -3.07142857, -3.67767857,\n",
       "       -3.33482143, -3.84107143, -6.43035714, -5.71964286, -5.08482143,\n",
       "       -4.33392857, -7.29821429, -5.81517857, -3.70803571, -5.28928571,\n",
       "       -3.88571429, -6.47321429, -4.42053571, -4.54464286, -5.79642857,\n",
       "       -6.58214286, -7.47678571, -5.03482143, -5.53035714, -6.10178571,\n",
       "       -4.175     , -6.04642857, -6.01339286, -3.39464286, -1.15535714,\n",
       "       -7.82142857, -4.74642857, -5.4625    , -4.59821429, -8.15625   ,\n",
       "       -7.3125    , -3.77142857, -3.74017857, -3.82857143, -1.77053571,\n",
       "       -5.34910714, -5.89553571, -3.04910714, -3.18839286, -7.70982143,\n",
       "       -5.025     , -3.19910714, -4.80803571, -4.57053571, -1.26339286,\n",
       "       -5.56428571, -8.89107143, -2.37142857, -3.59464286, -2.74017857,\n",
       "       -4.83303571, -6.53392857, -4.33214286, -2.20089286, -4.58482143,\n",
       "       -5.32767857, -5.70803571, -3.8       , -8.05535714, -4.05089286])"
      ]
     },
     "execution_count": 156,
     "metadata": {},
     "output_type": "execute_result"
    }
   ],
   "source": [
    "diffs"
   ]
  },
  {
   "cell_type": "code",
   "execution_count": 157,
   "metadata": {},
   "outputs": [
    {
     "name": "stdout",
     "output_type": "stream",
     "text": [
      "95% confidence interval for the mean: [-4.739232, -4.526256]\n"
     ]
    }
   ],
   "source": [
    "print('95%% confidence interval for the mean: [%f, %f]' % zconfint(diffs))"
   ]
  },
  {
   "cell_type": "code",
   "execution_count": 152,
   "metadata": {},
   "outputs": [],
   "source": [
    "from statsmodels.stats.weightstats import _tconfint_generic, _zconfint_generic"
   ]
  },
  {
   "cell_type": "code",
   "execution_count": 158,
   "metadata": {},
   "outputs": [
    {
     "data": {
      "text/plain": [
       "(-4.739307727513558, -4.526179772486439)"
      ]
     },
     "execution_count": 158,
     "metadata": {},
     "output_type": "execute_result"
    }
   ],
   "source": [
    "_tconfint_generic(diffs.mean(), diffs.std()/np.sqrt(len(diffs)), len(diffs) - 1, 0.05, 'two-sided')"
   ]
  },
  {
   "cell_type": "code",
   "execution_count": 159,
   "metadata": {},
   "outputs": [],
   "source": [
    "def stat_intervals(stat, alpha):\n",
    "    boundaries = np.percentile(stat, [100 * alpha / 2., 100 * (1 - alpha / 2.)])\n",
    "    return boundaries"
   ]
  },
  {
   "cell_type": "code",
   "execution_count": 162,
   "metadata": {},
   "outputs": [
    {
     "name": "stdout",
     "output_type": "stream",
     "text": [
      "95% confidence interval: [-4.73881569 -4.52450353]\n"
     ]
    }
   ],
   "source": [
    "np.random.seed(0)\n",
    "\n",
    "inc_mean = np.array(list(map(np.mean, get_bootstrap_samples(samples_incident1, 1000))))\n",
    "noinc_mean = np.array(list(map(np.mean, get_bootstrap_samples(samples_incident0, 1000))))\n",
    "\n",
    "print(\"95% confidence interval:\",  stat_intervals(inc_mean-noinc_mean, 0.05))"
   ]
  },
  {
   "cell_type": "markdown",
   "metadata": {},
   "source": [
    "# Вопрос 7\n",
    "На данных предыдущей задачи проверьте гипотезу об одинаковой средней температуре воздуха в дни, когда уплотнительный кольца повреждались, и дни, когда повреждений не было. Используйте перестановочный критерий и двустороннюю альтернативу. Чему равен достигаемый уровень значимости? Округлите до четырёх знаков после десятичной точки. \n",
    "\n",
    "Чтобы получить такое же значение, как мы:\n",
    "\n",
    "установите random seed = 0;\n",
    "возьмите 10000 перестановок."
   ]
  },
  {
   "cell_type": "code",
   "execution_count": null,
   "metadata": {},
   "outputs": [],
   "source": []
  }
 ],
 "metadata": {
  "kernelspec": {
   "display_name": "Python 3",
   "language": "python",
   "name": "python3"
  },
  "language_info": {
   "codemirror_mode": {
    "name": "ipython",
    "version": 3
   },
   "file_extension": ".py",
   "mimetype": "text/x-python",
   "name": "python",
   "nbconvert_exporter": "python",
   "pygments_lexer": "ipython3",
   "version": "3.8.5"
  }
 },
 "nbformat": 4,
 "nbformat_minor": 4
}
