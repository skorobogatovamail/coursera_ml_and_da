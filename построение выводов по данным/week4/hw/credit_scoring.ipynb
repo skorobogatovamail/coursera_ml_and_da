{
 "cells": [
  {
   "cell_type": "code",
   "execution_count": 1,
   "metadata": {},
   "outputs": [],
   "source": [
    "import pandas as pd\n",
    "import numpy as np\n",
    "\n",
    "from scipy import stats\n",
    "import scipy\n",
    "from statsmodels.stats import weightstats as wsm\n",
    "from statsmodels.stats.proportion import proportion_confint\n",
    "\n",
    "import matplotlib.pyplot as plt\n",
    "import seaborn as sns\n",
    "sns.set_style('whitegrid')\n",
    "\n",
    "plt.rc('axes', titlesize=18)     # fontsize of the axes title\n",
    "plt.rc('axes', labelsize=14)    # fontsize of the x and y labels\n",
    "plt.rc('xtick', labelsize=13)    # fontsize of the tick labels\n",
    "plt.rc('ytick', labelsize=13)    # fontsize of the tick labels\n",
    "plt.rc('legend', fontsize=13)    # legend fontsize\n",
    "plt.rc('font', size=13)          # controls default text sizes"
   ]
  },
  {
   "cell_type": "code",
   "execution_count": 102,
   "metadata": {},
   "outputs": [],
   "source": [
    "%matplotlib inline"
   ]
  },
  {
   "cell_type": "markdown",
   "metadata": {},
   "source": [
    "# Задание, оцениваемое сокурсниками: Анализ данных в задаче кредитного скоринга"
   ]
  },
  {
   "cell_type": "markdown",
   "metadata": {},
   "source": [
    "Для выполнения этого задания вам понадобятся данные о кредитных историях клиентов одного из банков. Поля в предоставляемых данных имеют следующий смысл: \n",
    "\n",
    " LIMIT_BAL:  размер кредитного лимита (в том числе и на семью клиента)\n",
    "\n",
    "SEX: пол клиента (1 = мужской, 2 = женский )\n",
    "\n",
    "EDUCATION: образование (0 = доктор, 1 = магистр; 2 = бакалавр; 3 = выпускник школы; 4 = начальное образование; 5= прочее; 6 = нет данных ).\n",
    "\n",
    "MARRIAGE: (0 = отказываюсь отвечать; 1 = замужем/женат; 2 = холост; 3 = нет данных). \n",
    "\n",
    "AGE: возраст в годах\n",
    "\n",
    "PAY_0 - PAY_6 : История прошлых платежей по кредиту. PAY_6 - платеж в апреле, ... Pay_0 - платеж в сентябре. Платеж = (0 = исправный платеж, 1=задержка в один месяц, 2=задержка в 2 месяца ...)\n",
    "\n",
    "BILL_AMT1 - BILL_AMT6:  задолженность,  BILL_AMT6 - на апрель, BILL_AMT1 - на сентябрь \n",
    "\n",
    "PAY_AMT1 - PAY_AMT6: сумма уплаченная в PAY_AMT6 - апреле, ..., PAY_AMT1 - сентябре \n",
    "\n",
    "default - индикатор невозврата денежных средств\n",
    "\n"
   ]
  },
  {
   "cell_type": "code",
   "execution_count": 2,
   "metadata": {},
   "outputs": [
    {
     "data": {
      "text/html": [
       "<div>\n",
       "<style scoped>\n",
       "    .dataframe tbody tr th:only-of-type {\n",
       "        vertical-align: middle;\n",
       "    }\n",
       "\n",
       "    .dataframe tbody tr th {\n",
       "        vertical-align: top;\n",
       "    }\n",
       "\n",
       "    .dataframe thead th {\n",
       "        text-align: right;\n",
       "    }\n",
       "</style>\n",
       "<table border=\"1\" class=\"dataframe\">\n",
       "  <thead>\n",
       "    <tr style=\"text-align: right;\">\n",
       "      <th></th>\n",
       "      <th>ID</th>\n",
       "      <th>LIMIT_BAL</th>\n",
       "      <th>SEX</th>\n",
       "      <th>EDUCATION</th>\n",
       "      <th>MARRIAGE</th>\n",
       "      <th>AGE</th>\n",
       "      <th>PAY_0</th>\n",
       "      <th>PAY_2</th>\n",
       "      <th>PAY_3</th>\n",
       "      <th>PAY_4</th>\n",
       "      <th>...</th>\n",
       "      <th>BILL_AMT4</th>\n",
       "      <th>BILL_AMT5</th>\n",
       "      <th>BILL_AMT6</th>\n",
       "      <th>PAY_AMT1</th>\n",
       "      <th>PAY_AMT2</th>\n",
       "      <th>PAY_AMT3</th>\n",
       "      <th>PAY_AMT4</th>\n",
       "      <th>PAY_AMT5</th>\n",
       "      <th>PAY_AMT6</th>\n",
       "      <th>default</th>\n",
       "    </tr>\n",
       "  </thead>\n",
       "  <tbody>\n",
       "    <tr>\n",
       "      <th>0</th>\n",
       "      <td>1</td>\n",
       "      <td>20000</td>\n",
       "      <td>2</td>\n",
       "      <td>2</td>\n",
       "      <td>1</td>\n",
       "      <td>24</td>\n",
       "      <td>2</td>\n",
       "      <td>2</td>\n",
       "      <td>0</td>\n",
       "      <td>0</td>\n",
       "      <td>...</td>\n",
       "      <td>0</td>\n",
       "      <td>0</td>\n",
       "      <td>0</td>\n",
       "      <td>0</td>\n",
       "      <td>689</td>\n",
       "      <td>0</td>\n",
       "      <td>0</td>\n",
       "      <td>0</td>\n",
       "      <td>0</td>\n",
       "      <td>1</td>\n",
       "    </tr>\n",
       "    <tr>\n",
       "      <th>1</th>\n",
       "      <td>2</td>\n",
       "      <td>120000</td>\n",
       "      <td>2</td>\n",
       "      <td>2</td>\n",
       "      <td>2</td>\n",
       "      <td>26</td>\n",
       "      <td>0</td>\n",
       "      <td>2</td>\n",
       "      <td>0</td>\n",
       "      <td>0</td>\n",
       "      <td>...</td>\n",
       "      <td>3272</td>\n",
       "      <td>3455</td>\n",
       "      <td>3261</td>\n",
       "      <td>0</td>\n",
       "      <td>1000</td>\n",
       "      <td>1000</td>\n",
       "      <td>1000</td>\n",
       "      <td>0</td>\n",
       "      <td>2000</td>\n",
       "      <td>1</td>\n",
       "    </tr>\n",
       "    <tr>\n",
       "      <th>2</th>\n",
       "      <td>3</td>\n",
       "      <td>90000</td>\n",
       "      <td>2</td>\n",
       "      <td>2</td>\n",
       "      <td>2</td>\n",
       "      <td>34</td>\n",
       "      <td>0</td>\n",
       "      <td>0</td>\n",
       "      <td>0</td>\n",
       "      <td>0</td>\n",
       "      <td>...</td>\n",
       "      <td>14331</td>\n",
       "      <td>14948</td>\n",
       "      <td>15549</td>\n",
       "      <td>1518</td>\n",
       "      <td>1500</td>\n",
       "      <td>1000</td>\n",
       "      <td>1000</td>\n",
       "      <td>1000</td>\n",
       "      <td>5000</td>\n",
       "      <td>0</td>\n",
       "    </tr>\n",
       "    <tr>\n",
       "      <th>3</th>\n",
       "      <td>4</td>\n",
       "      <td>50000</td>\n",
       "      <td>2</td>\n",
       "      <td>2</td>\n",
       "      <td>1</td>\n",
       "      <td>37</td>\n",
       "      <td>0</td>\n",
       "      <td>0</td>\n",
       "      <td>0</td>\n",
       "      <td>0</td>\n",
       "      <td>...</td>\n",
       "      <td>28314</td>\n",
       "      <td>28959</td>\n",
       "      <td>29547</td>\n",
       "      <td>2000</td>\n",
       "      <td>2019</td>\n",
       "      <td>1200</td>\n",
       "      <td>1100</td>\n",
       "      <td>1069</td>\n",
       "      <td>1000</td>\n",
       "      <td>0</td>\n",
       "    </tr>\n",
       "    <tr>\n",
       "      <th>4</th>\n",
       "      <td>5</td>\n",
       "      <td>50000</td>\n",
       "      <td>1</td>\n",
       "      <td>2</td>\n",
       "      <td>1</td>\n",
       "      <td>57</td>\n",
       "      <td>0</td>\n",
       "      <td>0</td>\n",
       "      <td>0</td>\n",
       "      <td>0</td>\n",
       "      <td>...</td>\n",
       "      <td>20940</td>\n",
       "      <td>19146</td>\n",
       "      <td>19131</td>\n",
       "      <td>2000</td>\n",
       "      <td>36681</td>\n",
       "      <td>10000</td>\n",
       "      <td>9000</td>\n",
       "      <td>689</td>\n",
       "      <td>679</td>\n",
       "      <td>0</td>\n",
       "    </tr>\n",
       "  </tbody>\n",
       "</table>\n",
       "<p>5 rows × 25 columns</p>\n",
       "</div>"
      ],
      "text/plain": [
       "   ID  LIMIT_BAL  SEX  EDUCATION  MARRIAGE  AGE  PAY_0  PAY_2  PAY_3  PAY_4  \\\n",
       "0   1      20000    2          2         1   24      2      2      0      0   \n",
       "1   2     120000    2          2         2   26      0      2      0      0   \n",
       "2   3      90000    2          2         2   34      0      0      0      0   \n",
       "3   4      50000    2          2         1   37      0      0      0      0   \n",
       "4   5      50000    1          2         1   57      0      0      0      0   \n",
       "\n",
       "   ...  BILL_AMT4  BILL_AMT5  BILL_AMT6  PAY_AMT1  PAY_AMT2  PAY_AMT3  \\\n",
       "0  ...          0          0          0         0       689         0   \n",
       "1  ...       3272       3455       3261         0      1000      1000   \n",
       "2  ...      14331      14948      15549      1518      1500      1000   \n",
       "3  ...      28314      28959      29547      2000      2019      1200   \n",
       "4  ...      20940      19146      19131      2000     36681     10000   \n",
       "\n",
       "   PAY_AMT4  PAY_AMT5  PAY_AMT6  default  \n",
       "0         0         0         0        1  \n",
       "1      1000         0      2000        1  \n",
       "2      1000      1000      5000        0  \n",
       "3      1100      1069      1000        0  \n",
       "4      9000       689       679        0  \n",
       "\n",
       "[5 rows x 25 columns]"
      ]
     },
     "execution_count": 2,
     "metadata": {},
     "output_type": "execute_result"
    }
   ],
   "source": [
    "df = pd.read_csv('credit_card_default_analysis.csv')\n",
    "df.head()"
   ]
  },
  {
   "cell_type": "code",
   "execution_count": 68,
   "metadata": {},
   "outputs": [
    {
     "data": {
      "text/plain": [
       "0    23364\n",
       "1     6636\n",
       "Name: default, dtype: int64"
      ]
     },
     "execution_count": 68,
     "metadata": {},
     "output_type": "execute_result"
    }
   ],
   "source": [
    "df.default.value_counts()"
   ]
  },
  {
   "cell_type": "markdown",
   "metadata": {},
   "source": [
    "# Задание \n",
    "##  Размер кредитного лимита (LIMIT_BAL). \n",
    "В двух группах, тех людей, кто вернул кредит (default = 0) и тех, кто его не вернул (default = 1) проверьте гипотезы:   a)  о равенстве медианных значений кредитного лимита с помощью подходящей интервальной оценки  b) о равенстве распределений с помощью одного из подходящих непараметрических критериев проверки равенства средних.  Значимы ли полученные результаты с практической точки зрения ?"
   ]
  },
  {
   "cell_type": "code",
   "execution_count": 3,
   "metadata": {},
   "outputs": [
    {
     "data": {
      "text/plain": [
       "<matplotlib.legend.Legend at 0x109fdce90>"
      ]
     },
     "execution_count": 3,
     "metadata": {},
     "output_type": "execute_result"
    },
    {
     "data": {
      "image/png": "[encoded data removed]",
      "text/plain": [
       "<Figure size 1080x360 with 2 Axes>"
      ]
     },
     "metadata": {},
     "output_type": "display_data"
    }
   ],
   "source": [
    "plt.figure(figsize=(15,5), tight_layout=True)\n",
    "\n",
    "plt.subplot(121)\n",
    "plt.hist(df['LIMIT_BAL'], color=sns.color_palette('Set2')[2], linewidth=2)\n",
    "plt.title('Histogram LIMIT_BAL')\n",
    "plt.xlabel('LIMIT_BAL')\n",
    "plt.ylabel('Count')\n",
    "\n",
    "\n",
    "plt.subplot(122)\n",
    "plt.hist(df['LIMIT_BAL'].loc[df.default==0], color=sns.color_palette('Set2')[2], linewidth=2, label='non-defaulted')\n",
    "plt.hist(df['LIMIT_BAL'].loc[df.default==1], color=sns.color_palette('Set2')[1], linewidth=2, label='defaulted')\n",
    "plt.title('Histogram LIMIT_BAL by default')\n",
    "plt.xlabel('LIMIT_BAL')\n",
    "plt.ylabel('Count')\n",
    "plt.legend()"
   ]
  },
  {
   "cell_type": "code",
   "execution_count": 4,
   "metadata": {},
   "outputs": [
    {
     "data": {
      "text/plain": [
       "<BarContainer object of 2 artists>"
      ]
     },
     "execution_count": 4,
     "metadata": {},
     "output_type": "execute_result"
    },
    {
     "data": {
      "image/png": "[encoded data removed]",
      "text/plain": [
       "<Figure size 504x360 with 1 Axes>"
      ]
     },
     "metadata": {},
     "output_type": "display_data"
    }
   ],
   "source": [
    "barplot = df.groupby(['default'], as_index=False).agg({'LIMIT_BAL':'median'})\n",
    "\n",
    "plt.figure(figsize=(7,5), tight_layout=True)\n",
    "plt.xlabel('default')\n",
    "plt.ylabel('LIMIT_BAL')\n",
    "plt.title('Median LIMIT_BAL by default')\n",
    "plt.bar(x=barplot['default'], height=barplot['LIMIT_BAL'], color=sns.color_palette('Set2')[2])"
   ]
  },
  {
   "cell_type": "markdown",
   "metadata": {},
   "source": [
    "### гипотеза: a) о равенстве медианных значений кредитного лимита с помощью подходящей интервальной оценки\n",
    "- $H0: med(limit)|(default = 0) = med(limit)|(default = 1)$\n",
    "- $H1: med(limit)|(default = 0) \\neq med(limit)|(default = 1)$\n"
   ]
  },
  {
   "cell_type": "code",
   "execution_count": 5,
   "metadata": {},
   "outputs": [
    {
     "name": "stdout",
     "output_type": "stream",
     "text": [
      "LIMIT_BAL non-defaulted: median 150000 RUB\n",
      "LIMIT_BAL defaulted: median 90000 RUB\n"
     ]
    }
   ],
   "source": [
    "print(\"LIMIT_BAL non-defaulted: median %.0f RUB\" % (df.groupby(['default']).agg({'LIMIT_BAL':'median'})['LIMIT_BAL'][0]))\n",
    "print(\"LIMIT_BAL defaulted: median %.0f RUB\" % (df.groupby(['default']).agg({'LIMIT_BAL':'median'})['LIMIT_BAL'][1]))"
   ]
  },
  {
   "cell_type": "markdown",
   "metadata": {},
   "source": [
    "#### интервальные оценки медианного лимита с помощью биномиального распределения"
   ]
  },
  {
   "cell_type": "code",
   "execution_count": 6,
   "metadata": {},
   "outputs": [],
   "source": [
    "#samples of LIMIT_BAL for default = 0/1\n",
    "lim_bal_0 = df.LIMIT_BAL.loc[df.default == 0]\n",
    "lim_bal_1 = df.LIMIT_BAL.loc[df.default == 1]"
   ]
  },
  {
   "cell_type": "code",
   "execution_count": 7,
   "metadata": {},
   "outputs": [],
   "source": [
    "def zconfint_binom(n, p, alpha=0.05):\n",
    "    q = 1 - p\n",
    "    m = n * p\n",
    "    var = n * p * q\n",
    "    z_stat = stats.norm.ppf(1 - alpha / 2)\n",
    "    l_bound = int(round(m - z_stat * np.sqrt(var)))\n",
    "    u_bound = int(round(m + z_stat * np.sqrt(var)))\n",
    "    return (l_bound, u_bound)"
   ]
  },
  {
   "cell_type": "code",
   "execution_count": 8,
   "metadata": {},
   "outputs": [
    {
     "name": "stdout",
     "output_type": "stream",
     "text": [
      "Conf. int. median LIMIT_BAL for default = 0: [150000, 150000]\n",
      "Conf. int. median LIMIT_BAL for default = 1: [80000, 90000]\n"
     ]
    }
   ],
   "source": [
    "#confidence intervals estimation\n",
    "lim_bal_0_s = np.sort(lim_bal_0.values)\n",
    "lim_bal_1_s = np.sort(lim_bal_1.values)\n",
    "\n",
    "l_ind_0, u_ind_0 = zconfint_binom(len(lim_bal_0_s), 0.5)\n",
    "l_ind_1, u_ind_1 = zconfint_binom(len(lim_bal_1_s), 0.5)\n",
    "\n",
    "print('Conf. int. median LIMIT_BAL for default = 0: [%d, %d]' % (lim_bal_0_s[l_ind_0], lim_bal_0_s[u_ind_0]))\n",
    "print('Conf. int. median LIMIT_BAL for default = 1: [%d, %d]' % (lim_bal_1_s[l_ind_1], lim_bal_1_s[u_ind_1]))"
   ]
  },
  {
   "cell_type": "markdown",
   "metadata": {},
   "source": [
    "#### интервальные оценки медианного лимита с помощью бутстрепа"
   ]
  },
  {
   "cell_type": "code",
   "execution_count": 9,
   "metadata": {},
   "outputs": [],
   "source": [
    "def get_bootstrap_samples(data, n_samples):\n",
    "    indices = np.random.randint(0, len(data), (n_samples, len(data)))\n",
    "    samples = data[indices]\n",
    "    return samples"
   ]
  },
  {
   "cell_type": "code",
   "execution_count": 10,
   "metadata": {},
   "outputs": [],
   "source": [
    "def stat_intervals(stat, alpha=0.05):\n",
    "    boundaries = np.percentile(stat, [100 * alpha / 2., 100 * (1 - alpha / 2.)])\n",
    "    return boundaries"
   ]
  },
  {
   "cell_type": "code",
   "execution_count": 11,
   "metadata": {},
   "outputs": [],
   "source": [
    "samples0 = get_bootstrap_samples(lim_bal_0_s, 1000)\n",
    "samples0_med = np.median(samples0, axis=1)\n",
    "\n",
    "samples1 = get_bootstrap_samples(lim_bal_1_s, 1000)\n",
    "samples1_med = np.median(samples1, axis=1)"
   ]
  },
  {
   "cell_type": "code",
   "execution_count": 12,
   "metadata": {},
   "outputs": [
    {
     "name": "stdout",
     "output_type": "stream",
     "text": [
      "Conf. int. median LIMIT_BAL for default = 0: [150000, 150000]\n"
     ]
    }
   ],
   "source": [
    "print('Conf. int. median LIMIT_BAL for default = 0: [%d, %d]' %\n",
    "      (stat_intervals(samples0_med)[0], stat_intervals(samples0_med)[1]))"
   ]
  },
  {
   "cell_type": "code",
   "execution_count": 13,
   "metadata": {},
   "outputs": [
    {
     "name": "stdout",
     "output_type": "stream",
     "text": [
      "Conf. int. median LIMIT_BAL for default = 1: [80000, 90000]\n"
     ]
    }
   ],
   "source": [
    "print('Conf. int. median LIMIT_BAL for default = 1: [%d, %d]' %\n",
    "      (stat_intervals(samples1_med)[0], stat_intervals(samples1_med)[1]))"
   ]
  },
  {
   "cell_type": "markdown",
   "metadata": {},
   "source": [
    "#### вывод: гипотеза H0 отвергается\n",
    "заемщики, склонные не возвращать кредит, берут меньшие суммы лимита"
   ]
  },
  {
   "cell_type": "markdown",
   "metadata": {},
   "source": [
    "### b) о равенстве распределений с помощью одного из подходящих непараметрических критериев проверки равенства средних"
   ]
  },
  {
   "cell_type": "code",
   "execution_count": 14,
   "metadata": {},
   "outputs": [
    {
     "name": "stdout",
     "output_type": "stream",
     "text": [
      "95% confidence interval for the mean: [176411, 179787]\n",
      "95% confidence interval for the mean: [127333, 132885]\n"
     ]
    }
   ],
   "source": [
    "# построим доверительные интервалы для среднего\n",
    "# zconfint\n",
    "from statsmodels.stats.weightstats import zconfint\n",
    "print('95%% confidence interval for the mean: [%d, %d]' % zconfint(lim_bal_0.values))\n",
    "print('95%% confidence interval for the mean: [%d, %d]' % zconfint(lim_bal_1.values))"
   ]
  },
  {
   "cell_type": "code",
   "execution_count": 15,
   "metadata": {},
   "outputs": [
    {
     "name": "stdout",
     "output_type": "stream",
     "text": [
      "95% confidence interval for the mean: [176411, 179787]\n"
     ]
    }
   ],
   "source": [
    "# _zconfint_generic\n",
    "from statsmodels.stats.weightstats import _zconfint_generic\n",
    "print('95%% confidence interval for the mean: [%d, %d]' \n",
    "      % _zconfint_generic(mean=lim_bal_0.mean(),\n",
    "                        std_mean = np.std(lim_bal_0, ddof=1)/np.sqrt(len(lim_bal_0)-1),\n",
    "                        alpha = 0.05,\n",
    "                        alternative = 'two-sided'))"
   ]
  },
  {
   "cell_type": "markdown",
   "metadata": {},
   "source": [
    "#### Двухвыборочные критерии для независимых выборок"
   ]
  },
  {
   "cell_type": "markdown",
   "metadata": {},
   "source": [
    "#### Ранговый критерий Манна-Уитни"
   ]
  },
  {
   "cell_type": "markdown",
   "metadata": {},
   "source": [
    "$H_0\\colon F_{X_1}(x) = F_{X_2}(x)$\n",
    "\n",
    "$H_1\\colon F_{X_1}(x) = F_{X_2}(x + \\Delta), \\Delta\\neq 0$"
   ]
  },
  {
   "cell_type": "code",
   "execution_count": 16,
   "metadata": {},
   "outputs": [
    {
     "data": {
      "text/plain": [
       "MannwhitneyuResult(statistic=59257217.5, pvalue=6.127742909111652e-190)"
      ]
     },
     "execution_count": 16,
     "metadata": {},
     "output_type": "execute_result"
    }
   ],
   "source": [
    "from scipy import stats\n",
    "stats.mannwhitneyu(lim_bal_0.values, lim_bal_1.values)"
   ]
  },
  {
   "cell_type": "markdown",
   "metadata": {},
   "source": [
    "- вывод: гипотеза H0 отвергается\n",
    "\n",
    "P-value меньше уровня значимости alpha = 0.05"
   ]
  },
  {
   "cell_type": "markdown",
   "metadata": {},
   "source": [
    "# Задание \n",
    "## Пол (SEX): Проверьте гипотезу о том,  что гендерный состав  группы людей вернувших и не вернувших кредит отличается.  \n",
    "Хорошо, если вы предоставите несколько различных решений  этой задачи (с помощью доверительного интервала и подходящего статистического критерия)"
   ]
  },
  {
   "cell_type": "code",
   "execution_count": 103,
   "metadata": {},
   "outputs": [
    {
     "data": {
      "text/plain": [
       "<matplotlib.legend.Legend at 0x1a2aea7e10>"
      ]
     },
     "execution_count": 103,
     "metadata": {},
     "output_type": "execute_result"
    },
    {
     "data": {
      "image/png": "[encoded data removed]",
      "text/plain": [
       "<Figure size 1080x360 with 2 Axes>"
      ]
     },
     "metadata": {
      "needs_background": "light"
     },
     "output_type": "display_data"
    }
   ],
   "source": [
    "plt.figure(figsize=(15, 5), tight_layout = True)\n",
    "\n",
    "plt.subplot(121)\n",
    "plt.xlabel('gender')\n",
    "plt.ylabel('count')\n",
    "plt.title('Distribution by gender types')\n",
    "plt.hist(df.SEX, color=sns.color_palette('Set2')[2])\n",
    "\n",
    "\n",
    "plt.subplot(122)\n",
    "plt.xlabel('gender')\n",
    "plt.ylabel('count')\n",
    "plt.title('Distribution of default by gender types')\n",
    "plt.hist(df.SEX.loc[df.default == 0], color=sns.color_palette('Set2')[2], label = 'non-defaulted')\n",
    "plt.hist(df.SEX.loc[df.default == 1], color=sns.color_palette('Set2')[1], label = 'defaulted')\n",
    "plt.legend()"
   ]
  },
  {
   "cell_type": "markdown",
   "metadata": {},
   "source": [
    "- $H0: mean(gender)|(default = 0) = mean(gender)|(default = 1)$\n",
    "- $H1: mean(gender)|(default = 0) \\neq mean(gender)|(default = 1)$"
   ]
  },
  {
   "cell_type": "code",
   "execution_count": 18,
   "metadata": {},
   "outputs": [],
   "source": [
    "gen_non_defaulted = df[['SEX']][df.default==0]-1\n",
    "gen_defaulted = df[['SEX']][df.default==1]-1"
   ]
  },
  {
   "cell_type": "code",
   "execution_count": 19,
   "metadata": {},
   "outputs": [
    {
     "name": "stdout",
     "output_type": "stream",
     "text": [
      "95% confidence interval for the mean: [0.607908, 0.620392]\n",
      "95% confidence interval for the mean: [0.555136, 0.578981]\n"
     ]
    }
   ],
   "source": [
    "# построим доверительные интервалы для среднего \n",
    "# zconfint\n",
    "from statsmodels.stats.weightstats import zconfint\n",
    "print('95%% confidence interval for the mean: [%f, %f]' % zconfint(gen_non_defaulted.values))\n",
    "print('95%% confidence interval for the mean: [%f, %f]' % zconfint(gen_defaulted.values))"
   ]
  },
  {
   "cell_type": "markdown",
   "metadata": {},
   "source": [
    "- вывод: 95% доверительные интервалы для среднего признака \"SEX\" у группы вернувших и не вернувших кредит не пересекаются\n",
    "\n",
    "среди не вернувших кредит доля мужчин выше"
   ]
  },
  {
   "cell_type": "markdown",
   "metadata": {},
   "source": [
    "### Z-критерий для разности долей (независимые выборки)"
   ]
  },
  {
   "cell_type": "markdown",
   "metadata": {},
   "source": [
    "   | $X_1$ | $X_2$  \n",
    "  ------------- | -------------|\n",
    "  1  | a | b \n",
    "  0  | c | d \n",
    "  $\\sum$ | $n_1$| $n_2$\n",
    "  \n",
    "$$ \\hat{p}_1 = \\frac{a}{n_1}$$\n",
    "\n",
    "$$ \\hat{p}_2 = \\frac{b}{n_2}$$\n",
    "\n",
    "\n",
    "$$\\text{Доверительный интервал для }p_1 - p_2\\colon \\;\\; \\hat{p}_1 - \\hat{p}_2 \\pm z_{1-\\frac{\\alpha}{2}}\\sqrt{\\frac{\\hat{p}_1(1 - \\hat{p}_1)}{n_1} + \\frac{\\hat{p}_2(1 - \\hat{p}_2)}{n_2}}$$\n",
    "\n",
    "$$Z-статистика: Z({X_1, X_2}) =  \\frac{\\hat{p}_1 - \\hat{p}_2}{\\sqrt{P(1 - P)(\\frac{1}{n_1} + \\frac{1}{n_2})}}$$\n",
    "$$P = \\frac{\\hat{p}_1{n_1} + \\hat{p}_2{n_2}}{{n_1} + {n_2}} $$"
   ]
  },
  {
   "cell_type": "code",
   "execution_count": 20,
   "metadata": {},
   "outputs": [],
   "source": [
    "def proportions_diff_confint_ind(sample1, sample2, alpha = 0.05):    \n",
    "    z = scipy.stats.norm.ppf(1 - alpha / 2.)\n",
    "    \n",
    "    p1 = float(sum(sample1)) / len(sample1)\n",
    "    p2 = float(sum(sample2)) / len(sample2)\n",
    "    \n",
    "    left_boundary = (p1 - p2) - z * np.sqrt(p1 * (1 - p1)/ len(sample1) + p2 * (1 - p2)/ len(sample2))\n",
    "    right_boundary = (p1 - p2) + z * np.sqrt(p1 * (1 - p1)/ len(sample1) + p2 * (1 - p2)/ len(sample2))\n",
    "    \n",
    "    return (left_boundary, right_boundary)"
   ]
  },
  {
   "cell_type": "code",
   "execution_count": 21,
   "metadata": {},
   "outputs": [],
   "source": [
    "def proportions_diff_z_stat_ind(sample1, sample2):\n",
    "    n1 = len(sample1)\n",
    "    n2 = len(sample2)\n",
    "    \n",
    "    p1 = float(sum(sample1)) / n1\n",
    "    p2 = float(sum(sample2)) / n2 \n",
    "    P = float(p1*n1 + p2*n2) / (n1 + n2)\n",
    "    \n",
    "    return (p1 - p2) / np.sqrt(P * (1 - P) * (1. / n1 + 1. / n2))"
   ]
  },
  {
   "cell_type": "code",
   "execution_count": 22,
   "metadata": {},
   "outputs": [],
   "source": [
    "def proportions_diff_z_test(z_stat, alternative = 'two-sided'):\n",
    "    if alternative not in ('two-sided', 'less', 'greater'):\n",
    "        raise ValueError(\"alternative not recognized\\n\"\n",
    "                         \"should be 'two-sided', 'less' or 'greater'\")\n",
    "    \n",
    "    if alternative == 'two-sided':\n",
    "        return 2 * (1 - scipy.stats.norm.cdf(np.abs(z_stat)))\n",
    "    \n",
    "    if alternative == 'less':\n",
    "        return scipy.stats.norm.cdf(z_stat)\n",
    "\n",
    "    if alternative == 'greater':\n",
    "        return 1 - scipy.stats.norm.cdf(z_stat)"
   ]
  },
  {
   "cell_type": "code",
   "execution_count": 23,
   "metadata": {},
   "outputs": [
    {
     "name": "stdout",
     "output_type": "stream",
     "text": [
      "95% confidence interval for a difference between proportions: [0.033635, 0.060548]\n"
     ]
    }
   ],
   "source": [
    "print(\"95%% confidence interval for a difference between proportions: [%f, %f]\" %\\\n",
    "      proportions_diff_confint_ind(gen_non_defaulted.values, gen_defaulted.values))"
   ]
  },
  {
   "cell_type": "code",
   "execution_count": 24,
   "metadata": {},
   "outputs": [
    {
     "name": "stdout",
     "output_type": "stream",
     "text": [
      "p-value: 0.000000\n"
     ]
    }
   ],
   "source": [
    "print(\"p-value: %f\" % proportions_diff_z_test(\n",
    "    proportions_diff_z_stat_ind(gen_non_defaulted.values, gen_defaulted.values)))"
   ]
  },
  {
   "cell_type": "markdown",
   "metadata": {},
   "source": [
    "- вывод: гендерный состав в группах вернувших и не вернувших долг отличается"
   ]
  },
  {
   "cell_type": "markdown",
   "metadata": {},
   "source": [
    "# Задание \n",
    "## Образование (EDUCATION): Проверьте гипотезу о том, что образование не влияет на то, вернет ли человек долг.  \n",
    "\n",
    "Предложите способ наглядного представления разницы в ожидаемых и наблюдаемых значениях количества человек вернувших и не вернувших долг. Например, составьте таблицу сопряженности \"образование\" на \"возврат долга\", где значением ячейки была бы  разность между наблюдаемым и ожидаемым количеством человек.  \n",
    "\n",
    "Как бы вы предложили модифицировать таблицу так, чтобы привести значения ячеек к одному масштабу не потеряв в интерпретируемости ?  Наличие какого образования является наилучшим индикатором того, что человек  отдаст долг ? наоборт, не отдаст долг ?\n",
    "\n"
   ]
  },
  {
   "cell_type": "code",
   "execution_count": 25,
   "metadata": {},
   "outputs": [],
   "source": [
    "ed = pd.DataFrame(df.EDUCATION.value_counts())\n",
    "ed.columns = ['num_obs']\n",
    "\n",
    "ed['expected_share'] = df.default.mean()\n",
    "ed['actual_share'] = df.groupby(['EDUCATION'], as_index = False).agg({'default':'mean'})['default']\n",
    "\n",
    "ed['expected_num_defs'] = (ed.expected_share * ed.num_obs).astype('int')\n",
    "ed['actual_num_defs'] = (ed.actual_share * ed.num_obs).astype('int')\n",
    "\n",
    "ed['diff'] = ed.actual_num_defs - ed.expected_num_defs\n",
    "ed['ratio'] = ed.actual_num_defs/ed.expected_num_defs\n",
    "\n",
    "ed = ed.sort_index()"
   ]
  },
  {
   "cell_type": "markdown",
   "metadata": {},
   "source": [
    "### таблица сопряженности \"образование\" на \"возврат долга\", где значение ячейки - отношение между наблюдаемым и ожидаемым количеством дефолтов"
   ]
  },
  {
   "cell_type": "code",
   "execution_count": 26,
   "metadata": {},
   "outputs": [
    {
     "data": {
      "text/html": [
       "<div>\n",
       "<style scoped>\n",
       "    .dataframe tbody tr th:only-of-type {\n",
       "        vertical-align: middle;\n",
       "    }\n",
       "\n",
       "    .dataframe tbody tr th {\n",
       "        vertical-align: top;\n",
       "    }\n",
       "\n",
       "    .dataframe thead th {\n",
       "        text-align: right;\n",
       "    }\n",
       "</style>\n",
       "<table border=\"1\" class=\"dataframe\">\n",
       "  <thead>\n",
       "    <tr style=\"text-align: right;\">\n",
       "      <th></th>\n",
       "      <th>num_obs</th>\n",
       "      <th>expected_share</th>\n",
       "      <th>actual_share</th>\n",
       "      <th>expected_num_defs</th>\n",
       "      <th>actual_num_defs</th>\n",
       "      <th>diff</th>\n",
       "      <th>ratio</th>\n",
       "    </tr>\n",
       "  </thead>\n",
       "  <tbody>\n",
       "    <tr>\n",
       "      <th>0</th>\n",
       "      <td>14</td>\n",
       "      <td>0.2212</td>\n",
       "      <td>0.000000</td>\n",
       "      <td>3</td>\n",
       "      <td>0</td>\n",
       "      <td>-3</td>\n",
       "      <td>0.000000</td>\n",
       "    </tr>\n",
       "    <tr>\n",
       "      <th>1</th>\n",
       "      <td>10585</td>\n",
       "      <td>0.2212</td>\n",
       "      <td>0.192348</td>\n",
       "      <td>2341</td>\n",
       "      <td>2036</td>\n",
       "      <td>-305</td>\n",
       "      <td>0.869714</td>\n",
       "    </tr>\n",
       "    <tr>\n",
       "      <th>2</th>\n",
       "      <td>14030</td>\n",
       "      <td>0.2212</td>\n",
       "      <td>0.237349</td>\n",
       "      <td>3103</td>\n",
       "      <td>3330</td>\n",
       "      <td>227</td>\n",
       "      <td>1.073155</td>\n",
       "    </tr>\n",
       "    <tr>\n",
       "      <th>3</th>\n",
       "      <td>4917</td>\n",
       "      <td>0.2212</td>\n",
       "      <td>0.251576</td>\n",
       "      <td>1087</td>\n",
       "      <td>1237</td>\n",
       "      <td>150</td>\n",
       "      <td>1.137994</td>\n",
       "    </tr>\n",
       "    <tr>\n",
       "      <th>4</th>\n",
       "      <td>123</td>\n",
       "      <td>0.2212</td>\n",
       "      <td>0.056911</td>\n",
       "      <td>27</td>\n",
       "      <td>7</td>\n",
       "      <td>-20</td>\n",
       "      <td>0.259259</td>\n",
       "    </tr>\n",
       "    <tr>\n",
       "      <th>5</th>\n",
       "      <td>280</td>\n",
       "      <td>0.2212</td>\n",
       "      <td>0.064286</td>\n",
       "      <td>61</td>\n",
       "      <td>18</td>\n",
       "      <td>-43</td>\n",
       "      <td>0.295082</td>\n",
       "    </tr>\n",
       "    <tr>\n",
       "      <th>6</th>\n",
       "      <td>51</td>\n",
       "      <td>0.2212</td>\n",
       "      <td>0.156863</td>\n",
       "      <td>11</td>\n",
       "      <td>8</td>\n",
       "      <td>-3</td>\n",
       "      <td>0.727273</td>\n",
       "    </tr>\n",
       "  </tbody>\n",
       "</table>\n",
       "</div>"
      ],
      "text/plain": [
       "   num_obs  expected_share  actual_share  expected_num_defs  actual_num_defs  \\\n",
       "0       14          0.2212      0.000000                  3                0   \n",
       "1    10585          0.2212      0.192348               2341             2036   \n",
       "2    14030          0.2212      0.237349               3103             3330   \n",
       "3     4917          0.2212      0.251576               1087             1237   \n",
       "4      123          0.2212      0.056911                 27                7   \n",
       "5      280          0.2212      0.064286                 61               18   \n",
       "6       51          0.2212      0.156863                 11                8   \n",
       "\n",
       "   diff     ratio  \n",
       "0    -3  0.000000  \n",
       "1  -305  0.869714  \n",
       "2   227  1.073155  \n",
       "3   150  1.137994  \n",
       "4   -20  0.259259  \n",
       "5   -43  0.295082  \n",
       "6    -3  0.727273  "
      ]
     },
     "execution_count": 26,
     "metadata": {},
     "output_type": "execute_result"
    }
   ],
   "source": [
    "ed"
   ]
  },
  {
   "cell_type": "markdown",
   "metadata": {},
   "source": [
    "### можно модифицировать таблицу, чтобы привести значения ячеек к одному масштабу не потеряв в интерпретируемости с помощью WoE преобразования - отношение доли деофлтов в группе к доле дефолтов во всей выборке\n",
    "\n",
    "чем выше WoE в группе, тем более высокая концентрация целевого признака в группе по сравнению с остальной выборкой\n",
    "\n",
    "в нашем случае - чем выше woe, тем \"хуже\" группа"
   ]
  },
  {
   "cell_type": "code",
   "execution_count": 27,
   "metadata": {},
   "outputs": [],
   "source": [
    "ed['WoE'] = ed.actual_share/df.default.mean()"
   ]
  },
  {
   "cell_type": "code",
   "execution_count": 28,
   "metadata": {},
   "outputs": [
    {
     "data": {
      "text/plain": [
       "<BarContainer object of 7 artists>"
      ]
     },
     "execution_count": 28,
     "metadata": {},
     "output_type": "execute_result"
    },
    {
     "data": {
      "image/png": "[encoded data removed]",
      "text/plain": [
       "<Figure size 720x360 with 1 Axes>"
      ]
     },
     "metadata": {},
     "output_type": "display_data"
    }
   ],
   "source": [
    "plt.figure(figsize=(10, 5), tight_layout = True)\n",
    "plt.title(\"WoE by Education type\")\n",
    "plt.bar(height = ed.WoE, x = ed.index, color=sns.color_palette('Set2')[2])"
   ]
  },
  {
   "cell_type": "markdown",
   "metadata": {},
   "source": [
    "- Наличие образования типа \"0\" является наилучшим индикатором того, что человек отдаст долг \n",
    "- наоборт, индикатор того, что заемщик с высокой вероятностью не отдаст долг  - образование типа \"3\""
   ]
  },
  {
   "cell_type": "markdown",
   "metadata": {},
   "source": [
    "Произведём строгую проверку на соответствие данного распределения равномерному с помощью критерия согласия Пирсона хи-квадрат.\n",
    "\n",
    "\n",
    "- H0: рассматривая величина имеет равномерное распределение\n",
    "- H1: H0 не верна"
   ]
  },
  {
   "cell_type": "code",
   "execution_count": 29,
   "metadata": {},
   "outputs": [
    {
     "data": {
      "text/plain": [
       "Power_divergenceResult(statistic=125.98712339203672, pvalue=1.6898632021876734e-25)"
      ]
     },
     "execution_count": 29,
     "metadata": {},
     "output_type": "execute_result"
    }
   ],
   "source": [
    "#chi-square criterion\n",
    "stats.chisquare(ed.actual_num_defs, ed.expected_num_defs, ddof = 1)"
   ]
  },
  {
   "cell_type": "markdown",
   "metadata": {},
   "source": [
    "- вывод: H0 отвергается"
   ]
  },
  {
   "cell_type": "markdown",
   "metadata": {},
   "source": [
    "# Задание"
   ]
  },
  {
   "cell_type": "markdown",
   "metadata": {},
   "source": [
    "## Семейное положение (MARRIAGE): \n",
    "Проверьте, как связан семейный статус с индикатором дефолта: нужно предложить меру, по которой можно измерить возможную связь этих переменных и посчитать ее значение."
   ]
  },
  {
   "cell_type": "code",
   "execution_count": 412,
   "metadata": {},
   "outputs": [
    {
     "data": {
      "text/plain": [
       "<matplotlib.legend.Legend at 0x1a371c8750>"
      ]
     },
     "execution_count": 412,
     "metadata": {},
     "output_type": "execute_result"
    },
    {
     "data": {
      "image/png": "[encoded data removed]",
      "text/plain": [
       "<Figure size 1080x360 with 2 Axes>"
      ]
     },
     "metadata": {},
     "output_type": "display_data"
    }
   ],
   "source": [
    "plt.figure(figsize=(15, 5), tight_layout = True)\n",
    "\n",
    "plt.subplot(121)\n",
    "plt.xlabel('MARRIAGE')\n",
    "plt.ylabel('count')\n",
    "plt.title('Distribution by df.MARRIAGE.loc[df.default == 0] types')\n",
    "plt.hist(df.MARRIAGE, color=sns.color_palette('Set2')[2])\n",
    "\n",
    "\n",
    "plt.subplot(122)\n",
    "plt.xlabel('MARRIAGE')\n",
    "plt.ylabel('count')\n",
    "plt.title('Distribution of default by df.MARRIAGE.loc[df.default == 0] types')\n",
    "plt.hist(df.MARRIAGE.loc[df.default == 0], color=sns.color_palette('Set2')[2], label = 'non-defaulted')\n",
    "plt.hist(df.MARRIAGE.loc[df.default == 1], color=sns.color_palette('Set2')[1], label = 'defaulted')\n",
    "plt.legend()"
   ]
  },
  {
   "cell_type": "markdown",
   "metadata": {},
   "source": [
    "### оценим взаимосвязь между признаками MARRIAGE и default с помощью коэффициента V Крамера"
   ]
  },
  {
   "cell_type": "code",
   "execution_count": 70,
   "metadata": {},
   "outputs": [
    {
     "data": {
      "text/html": [
       "<div>\n",
       "<style scoped>\n",
       "    .dataframe tbody tr th:only-of-type {\n",
       "        vertical-align: middle;\n",
       "    }\n",
       "\n",
       "    .dataframe tbody tr th {\n",
       "        vertical-align: top;\n",
       "    }\n",
       "\n",
       "    .dataframe thead tr th {\n",
       "        text-align: left;\n",
       "    }\n",
       "\n",
       "    .dataframe thead tr:last-of-type th {\n",
       "        text-align: right;\n",
       "    }\n",
       "</style>\n",
       "<table border=\"1\" class=\"dataframe\">\n",
       "  <thead>\n",
       "    <tr>\n",
       "      <th></th>\n",
       "      <th colspan=\"2\" halign=\"left\">ID</th>\n",
       "    </tr>\n",
       "    <tr>\n",
       "      <th>default</th>\n",
       "      <th>0</th>\n",
       "      <th>1</th>\n",
       "    </tr>\n",
       "    <tr>\n",
       "      <th>MARRIAGE</th>\n",
       "      <th></th>\n",
       "      <th></th>\n",
       "    </tr>\n",
       "  </thead>\n",
       "  <tbody>\n",
       "    <tr>\n",
       "      <th>0</th>\n",
       "      <td>49</td>\n",
       "      <td>5</td>\n",
       "    </tr>\n",
       "    <tr>\n",
       "      <th>1</th>\n",
       "      <td>10453</td>\n",
       "      <td>3206</td>\n",
       "    </tr>\n",
       "    <tr>\n",
       "      <th>2</th>\n",
       "      <td>12623</td>\n",
       "      <td>3341</td>\n",
       "    </tr>\n",
       "    <tr>\n",
       "      <th>3</th>\n",
       "      <td>239</td>\n",
       "      <td>84</td>\n",
       "    </tr>\n",
       "  </tbody>\n",
       "</table>\n",
       "</div>"
      ],
      "text/plain": [
       "             ID      \n",
       "default       0     1\n",
       "MARRIAGE             \n",
       "0            49     5\n",
       "1         10453  3206\n",
       "2         12623  3341\n",
       "3           239    84"
      ]
     },
     "execution_count": 70,
     "metadata": {},
     "output_type": "execute_result"
    }
   ],
   "source": [
    "# составим таблицу сопряженности\n",
    "pivot = pd.pivot_table(data = df[['MARRIAGE', 'default', 'ID']],\n",
    "               index = ['MARRIAGE'], \n",
    "               columns = ['default'], \n",
    "               aggfunc = 'count',\n",
    "               fill_value=0)\n",
    "pivot"
   ]
  },
  {
   "cell_type": "code",
   "execution_count": 74,
   "metadata": {},
   "outputs": [
    {
     "data": {
      "text/plain": [
       "array([[   49,     5],\n",
       "       [10453,  3206],\n",
       "       [12623,  3341],\n",
       "       [  239,    84]])"
      ]
     },
     "execution_count": 74,
     "metadata": {},
     "output_type": "execute_result"
    }
   ],
   "source": [
    "pivot.values"
   ]
  },
  {
   "cell_type": "code",
   "execution_count": 75,
   "metadata": {},
   "outputs": [],
   "source": [
    "def cramers_stat(confusion_matrix):\n",
    "    chi2 = stats.chi2_contingency(confusion_matrix)[0]\n",
    "    n = confusion_matrix.sum()\n",
    "    return np.sqrt(chi2 / (n*(min(confusion_matrix.shape)-1)))"
   ]
  },
  {
   "cell_type": "code",
   "execution_count": 77,
   "metadata": {},
   "outputs": [
    {
     "name": "stdout",
     "output_type": "stream",
     "text": [
      "V Cramer stat value: 0.0345\n"
     ]
    }
   ],
   "source": [
    "print('V Cramer stat value: %.4f' % cramers_stat(pivot.values))"
   ]
  },
  {
   "cell_type": "markdown",
   "metadata": {},
   "source": [
    "Коэффициент Крамера принимает значение, близкое к нулю, когда взаимосвязь отсутствует."
   ]
  },
  {
   "cell_type": "markdown",
   "metadata": {},
   "source": [
    "# Задание"
   ]
  },
  {
   "cell_type": "markdown",
   "metadata": {},
   "source": [
    "## Возраст (AGE): \n",
    "Относительно двух групп людей  вернувших и не вернувших кредит  проверьте следующие гипотезы:   a)  о равенстве медианных значений возрастов людей   b) о равенстве распределений  с помощью одного из подходящих непараметрических критериев проверки равенства средних.  Значимы ли полученные результаты с практической точки зрения ?"
   ]
  },
  {
   "cell_type": "code",
   "execution_count": 95,
   "metadata": {},
   "outputs": [
    {
     "data": {
      "text/html": [
       "<div>\n",
       "<style scoped>\n",
       "    .dataframe tbody tr th:only-of-type {\n",
       "        vertical-align: middle;\n",
       "    }\n",
       "\n",
       "    .dataframe tbody tr th {\n",
       "        vertical-align: top;\n",
       "    }\n",
       "\n",
       "    .dataframe thead th {\n",
       "        text-align: right;\n",
       "    }\n",
       "</style>\n",
       "<table border=\"1\" class=\"dataframe\">\n",
       "  <thead>\n",
       "    <tr style=\"text-align: right;\">\n",
       "      <th></th>\n",
       "      <th>default</th>\n",
       "      <th>AGE</th>\n",
       "    </tr>\n",
       "  </thead>\n",
       "  <tbody>\n",
       "    <tr>\n",
       "      <th>0</th>\n",
       "      <td>0</td>\n",
       "      <td>34</td>\n",
       "    </tr>\n",
       "    <tr>\n",
       "      <th>1</th>\n",
       "      <td>1</td>\n",
       "      <td>34</td>\n",
       "    </tr>\n",
       "  </tbody>\n",
       "</table>\n",
       "</div>"
      ],
      "text/plain": [
       "   default  AGE\n",
       "0        0   34\n",
       "1        1   34"
      ]
     },
     "execution_count": 95,
     "metadata": {},
     "output_type": "execute_result"
    }
   ],
   "source": [
    "df.groupby('default', as_index=False).agg({'AGE':'median'})"
   ]
  },
  {
   "cell_type": "markdown",
   "metadata": {},
   "source": [
    "на первый взгляд, медианные значения возраста в 2 группах совпадают"
   ]
  },
  {
   "cell_type": "markdown",
   "metadata": {},
   "source": [
    "построим распределение по возрасту наблюдения в 2 группах: видно, что распределения разные"
   ]
  },
  {
   "cell_type": "code",
   "execution_count": 99,
   "metadata": {},
   "outputs": [
    {
     "data": {
      "text/plain": [
       "<matplotlib.legend.Legend at 0x1a2a6a1dd0>"
      ]
     },
     "execution_count": 99,
     "metadata": {},
     "output_type": "execute_result"
    },
    {
     "data": {
      "image/png": "[encoded data removed]",
      "text/plain": [
       "<Figure size 1080x360 with 2 Axes>"
      ]
     },
     "metadata": {},
     "output_type": "display_data"
    }
   ],
   "source": [
    "plt.figure(figsize=(15, 5), tight_layout = True)\n",
    "\n",
    "plt.subplot(121)\n",
    "plt.hist(df['AGE'])\n",
    "plt.title('Distribution of AGE in whole sample')\n",
    "\n",
    "\n",
    "plt.subplot(122)\n",
    "plt.hist(df['AGE'].loc[df.default==0], label='non-defaulted')\n",
    "plt.hist(df['AGE'].loc[df.default==1], label='defaulted')\n",
    "plt.title('Distribution of AGE by default groups')\n",
    "plt.legend()"
   ]
  },
  {
   "cell_type": "markdown",
   "metadata": {},
   "source": [
    "### проверим гипотезу о равенстве медианных значений возраста в 2 группах\n",
    "\n",
    "#### построим доверительные интервалы для медианы в 2 группах"
   ]
  },
  {
   "cell_type": "markdown",
   "metadata": {},
   "source": [
    "c помощью биномиального распределения"
   ]
  },
  {
   "cell_type": "code",
   "execution_count": 168,
   "metadata": {},
   "outputs": [],
   "source": [
    "age0_s = df['AGE'].loc[df.default==0].sort_values().reset_index(drop=True)\n",
    "age1_s = df['AGE'].loc[df.default==1].sort_values().reset_index(drop=True)"
   ]
  },
  {
   "cell_type": "code",
   "execution_count": 186,
   "metadata": {},
   "outputs": [
    {
     "name": "stdout",
     "output_type": "stream",
     "text": [
      "m: 11682, n: 23364, p: 0.5, q: 0.5, var: 5841.0, np.sqrt(var): 76.4\n",
      "z: 1.95996\n",
      "\n",
      "step: 150\n",
      "\n",
      "l_bound observation number: 11532, u_bound observation number: 11832\n",
      "длина интервала: 300 наблюдений\n",
      "\n",
      "l_bound: 34, u_bound: 34\n"
     ]
    }
   ],
   "source": [
    "# определим параметры биномиального распределения, в частности стандартное отклонение (np.sqrt(var))\n",
    "n = len(age0_s)\n",
    "p = 0.5\n",
    "q = 1-p\n",
    "m = n*p\n",
    "var = n*p*q\n",
    "print(\"m: %d, n: %d, p: %0.1f, q: %0.1f, var: %0.1f, np.sqrt(var): %0.1f\" % (m, n, p, q, var, np.sqrt(var)))\n",
    "\n",
    "# определим значение 1-a/2 (0.975) квантиля стандартного нормального распределения z - применим правило 2 сигм\n",
    "z = stats.norm.ppf(1-0.05/2)\n",
    "print(\"z: %0.5f\" % (z))\n",
    "\n",
    "# величина шага, полученная на основе стандартного отклонения и правила 2 сигм\n",
    "step = round(z*np.sqrt(var))\n",
    "print(\"\\nstep: %d\" % step)\n",
    "\n",
    "# определим номера наблюдений в ряде значений возраста,\n",
    "# отсортированного по возрастанию, которые соответствуют \n",
    "# верхней и нижней границам доверительного интервала для медианы\n",
    "l_bound = int(round(m - z*np.sqrt(var)))\n",
    "u_bound = int(round(m + z*np.sqrt(var)))\n",
    "\n",
    "print(\"\\nl_bound observation number: %d, u_bound observation number: %d\" % (l_bound, u_bound))\n",
    "print(\"длина интервала: %d наблюдений\" % (u_bound-l_bound))\n",
    "\n",
    "\n",
    "# определим значения возраста, которые входят в данный интервал\n",
    "print(\"\\nl_bound: %d, u_bound: %d\" % (age0_s[l_bound], age0_s[u_bound]))"
   ]
  },
  {
   "cell_type": "code",
   "execution_count": 176,
   "metadata": {},
   "outputs": [
    {
     "name": "stdout",
     "output_type": "stream",
     "text": [
      "m: 3318, n: 6636, p: 0.5, q: 0.5, var: 1659.0\n",
      "z: 1.95996\n",
      "l_bound observation number: 3238, u_bound observation number: 3398\n",
      "длина интервала: 160 наблюдений\n",
      "l_bound: 34, u_bound: 35\n"
     ]
    }
   ],
   "source": [
    "# повторим то же самое для деофлтных наблюдений\n",
    "# определим параметры биномиального распределения\n",
    "n = len(age1_s)\n",
    "p = 0.5\n",
    "q = 1-p\n",
    "m = n*p\n",
    "var = n*p*q\n",
    "print(\"m: %d, n: %d, p: %0.1f, q: %0.1f, var: %0.1f\" % (m, n, p, q, var))\n",
    "\n",
    "# определим значение 1-a/2 (0.975) квантиля стандартного нормального распределения z\n",
    "z = stats.norm.ppf(1-0.05/2)\n",
    "print(\"z: %0.5f\" % (z))\n",
    "\n",
    "# определим номера наблюдений в ряде значений возраста,\n",
    "# отсортированного по возрастанию, которые соответствуют \n",
    "# верхней и нижней границам доверительного интервала для медианы\n",
    "l_bound = int(round(m - z*np.sqrt(var)))\n",
    "u_bound = int(round(m + z*np.sqrt(var)))\n",
    "\n",
    "print(\"l_bound observation number: %d, u_bound observation number: %d\" % (l_bound, u_bound))\n",
    "print(\"длина интервала: %d наблюдений\" % (u_bound-l_bound))\n",
    "\n",
    "# определим значения возраста, которые входят в данный интервал\n",
    "print(\"l_bound: %d, u_bound: %d\" % (age1_s[l_bound], age1_s[u_bound]))"
   ]
  },
  {
   "cell_type": "markdown",
   "metadata": {},
   "source": [
    "доверительный интервал для возраста у дефолтных наблюдений шире, но пересекается с динтервалом для недефолтных наблюдений"
   ]
  },
  {
   "cell_type": "code",
   "execution_count": 204,
   "metadata": {},
   "outputs": [],
   "source": [
    "### Построим интервальную оценку для разности медиан на основе бутстрепа\n",
    "def get_bootstrap_samples(data, n_samples):\n",
    "    data = np.array(data)\n",
    "    indices = np.random.randint(0, len(data), (n_samples, len(data)))\n",
    "    samples = data[indices]\n",
    "    return samples"
   ]
  },
  {
   "cell_type": "code",
   "execution_count": 229,
   "metadata": {},
   "outputs": [
    {
     "data": {
      "text/plain": [
       "array([-1.,  0.])"
      ]
     },
     "execution_count": 229,
     "metadata": {},
     "output_type": "execute_result"
    }
   ],
   "source": [
    "age0_s_b = get_bootstrap_samples(age0_s, 100)\n",
    "med0 = np.median(age0_s_b, axis=1)\n",
    "\n",
    "age1_s_b = get_bootstrap_samples(age1_s, 100)\n",
    "med1 = np.median(age1_s_b, axis=1)\n",
    "\n",
    "diffs = med0 - med1\n",
    "\n",
    "np.percentile(diffs, [2.5, 97.5])"
   ]
  },
  {
   "cell_type": "markdown",
   "metadata": {},
   "source": [
    "доверительный интервал включает 0, поэтому гипотеза о равенстве медиан не отклоняется"
   ]
  },
  {
   "cell_type": "markdown",
   "metadata": {},
   "source": [
    "### b) о равенстве распределений с помощью одного из подходящих непараметрических критериев проверки равенства средних"
   ]
  },
  {
   "cell_type": "code",
   "execution_count": 230,
   "metadata": {},
   "outputs": [
    {
     "data": {
      "text/plain": [
       "MannwhitneyuResult(statistic=76966879.5, pvalue=0.1862517717449308)"
      ]
     },
     "execution_count": 230,
     "metadata": {},
     "output_type": "execute_result"
    }
   ],
   "source": [
    "from scipy import stats\n",
    "stats.mannwhitneyu(age0_s.values, age1_s.values)"
   ]
  },
  {
   "cell_type": "markdown",
   "metadata": {},
   "source": [
    "нулевая гипотеза не отклоняется"
   ]
  },
  {
   "cell_type": "code",
   "execution_count": null,
   "metadata": {},
   "outputs": [],
   "source": []
  }
 ],
 "metadata": {
  "kernelspec": {
   "display_name": "Python 3",
   "language": "python",
   "name": "python3"
  },
  "language_info": {
   "codemirror_mode": {
    "name": "ipython",
    "version": 3
   },
   "file_extension": ".py",
   "mimetype": "text/x-python",
   "name": "python",
   "nbconvert_exporter": "python",
   "pygments_lexer": "ipython3",
   "version": "3.7.6"
  },
  "toc": {
   "base_numbering": 1,
   "nav_menu": {},
   "number_sections": true,
   "sideBar": true,
   "skip_h1_title": false,
   "title_cell": "Table of Contents",
   "title_sidebar": "Contents",
   "toc_cell": false,
   "toc_position": {},
   "toc_section_display": true,
   "toc_window_display": false
  }
 },
 "nbformat": 4,
 "nbformat_minor": 4
}
